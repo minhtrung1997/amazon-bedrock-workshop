{
 "cells": [
  {
   "cell_type": "markdown",
   "id": "b2f1cfd7",
   "metadata": {},
   "source": [
    "# Text Generation with Amazon Bedrock\n",
    "\n",
    "> *This notebook should work well with the **`Python 3`** kernel from **`SageMaker Distribution 2.1`** in SageMaker Studio*\n",
    "\n",
    "## Introduction\n",
    "\n",
    "In this notebook, you will explore different capabilities of Amazon Bedrock and how to use foundation models for the following use cases:\n",
    "\n",
    "1. **Text Summarization**: Create concise summaries from longer text passages\n",
    "2. **Code Generation**: Generate Python and SQL code from natural language descriptions\n",
    "3. **Entity Extraction**: Extract structured information from unstructured text\n",
    "\n",
    "You'll see how to use the Boto3 SDK to interact with different foundation models available through Amazon Bedrock such as the Amazon Nova and Claude 3 Sonnet foundation models.\n",
    "\n",
    "### Prerequisites\n",
    "- Access to Amazon Bedrock\n",
    "- Appropriate IAM permissions\n",
    "- Python 3.x environment"
   ]
  },
  {
   "cell_type": "markdown",
   "id": "c3c6c4cf",
   "metadata": {},
   "source": [
    "## Setup\n",
    "\n",
    "⚠️ ⚠️ ⚠️ Before running this notebook, ensure you've run the [Bedrock basics notebook](../00_Prerequisites/bedrock_basics.ipynb#Prerequisites) notebook. ⚠️ ⚠️ ⚠️\n"
   ]
  },
  {
   "cell_type": "markdown",
   "id": "cc8b7c77",
   "metadata": {},
   "source": []
  },
  {
   "cell_type": "code",
   "execution_count": 2,
   "id": "016bd19a",
   "metadata": {},
   "outputs": [],
   "source": [
    "import json\n",
    "import os\n",
    "import sys\n",
    "\n",
    "import boto3\n",
    "import botocore\n",
    "\n",
    "session = boto3.session.Session()\n",
    "region = session.region_name\n",
    "boto3_bedrock = boto3.client(service_name = 'bedrock-runtime',region_name = 'us-east-1')"
   ]
  },
  {
   "cell_type": "markdown",
   "id": "f95096ec",
   "metadata": {},
   "source": [
    "## 1. Text Summarization: Create concise summaries from longer text passages\n",
    " \n",
    "To learn detail of API request to Amazon Bedrock, this notebook introduces how to create API request and send the request via Boto3 rather than relying on langchain, which gives simpler API by wrapping Boto3 operation. "
   ]
  },
  {
   "cell_type": "markdown",
   "id": "f0cc3ceb",
   "metadata": {},
   "source": [
    "### Request Syntax of InvokeModel in Boto3\n",
    "\n",
    "\n",
    "We use `InvokeModel` API for sending request to a foundation model. Here is an example of API request for sending text to Amazon Nova. Inference parameters in the request body depend on the model that you are about to use. Inference parameters of Amazon Nova are::\n",
    "- **maxTokenCount** configures the max number of tokens to use in the generated response. (int)\n",
    "- **stopSequences** is used to make the model stop at a desired point, such as the end of a sentence or a list. The returned response will not contain the stop sequence.\n",
    "- **temperature** is a number in the range [0,1] that controls the creativity of the response. A temperature of 0 means the same prompt will generate completions with minimal variability (useful for reproducibility and debugging) while a temperature of 1 means the same prompt can generate differing and unlikely completions (useful for creativity)\n",
    "- **topP** is a number in the range [0.1,1] used to remove less probable tokens from the option pool, i.e., given a list of possible tokens in order of most probable to least probable, top p limits the length of the list to include just those tokens whose probabilities sum to at most top p. If top p is 1, the model considers all options. The closer top p gets to zero, the more the model focuses on the more probable options\n",
    "\n",
    "\n",
    "### Writing prompt with text to be summarized\n",
    "\n",
    "In this notebook, you can use any short text whose tokens are less than the maximum token of a foundation model. As an exmple of short text, let's take one paragraph of an [AWS blog post](https://aws.amazon.com/jp/blogs/machine-learning/announcing-new-tools-for-building-with-generative-ai-on-aws/) about announcement of Amazon Bedrock.\n",
    "\n",
    "The prompt starts with an instruction `Please provide a summary of the following text.`, and includes text surrounded by  `<text>` tag. "
   ]
  },
  {
   "cell_type": "code",
   "execution_count": 3,
   "id": "440ca035",
   "metadata": {},
   "outputs": [],
   "source": [
    "prompt = \"\"\"\n",
    "Please provide a summary of the following text. Do not add any information that is not mentioned in the text below.\n",
    "\n",
    "<text>\n",
    "AWS took all of that feedback from customers, and today we are excited to announce Amazon Bedrock, \\\n",
    "a new service that makes FMs from AI21 Labs, Anthropic, Stability AI, and Amazon accessible via an API. \\\n",
    "Bedrock is the easiest way for customers to build and scale generative AI-based applications using FMs, \\\n",
    "democratizing access for all builders. Bedrock will offer the ability to access a range of powerful FMs \\\n",
    "for text and images—including Amazons Titan FMs, which consist of two new LLMs we’re also announcing \\\n",
    "today—through a scalable, reliable, and secure AWS managed service. With Bedrock’s serverless experience, \\\n",
    "customers can easily find the right model for what they’re trying to get done, get started quickly, privately \\\n",
    "customize FMs with their own data, and easily integrate and deploy them into their applications using the AWS \\\n",
    "tools and capabilities they are familiar with, without having to manage any infrastructure (including integrations \\\n",
    "with Amazon SageMaker ML features like Experiments to test different models and Pipelines to manage their FMs at scale).\n",
    "</text>\n",
    "\n",
    "\"\"\""
   ]
  },
  {
   "cell_type": "markdown",
   "id": "a0c9e677",
   "metadata": {},
   "source": [
    "## Creating request body with prompt and inference parameters \n",
    "\n",
    "Following the request syntax of `invoke_model`, you create request body with the above prompt and inference parameters.\n",
    "\n",
    "### Amazon Nova:\n",
    "A request payload that configures the model with specified inference parameters while processing the user's prompt."
   ]
  },
  {
   "cell_type": "code",
   "execution_count": 4,
   "id": "29d8c668",
   "metadata": {},
   "outputs": [],
   "source": [
    "body = json.dumps(\n",
    "    {\n",
    "    \"schemaVersion\": \"messages-v1\",\n",
    "    \"messages\": [\n",
    "        {\n",
    "            \"role\": \"user\",\n",
    "            \"content\": [\n",
    "                {\n",
    "                    \"text\": prompt\n",
    "                }\n",
    "            ]\n",
    "        }\n",
    "    ],\n",
    "    \"inferenceConfig\": {\n",
    "        \"maxTokens\": 300,\n",
    "        \"temperature\": 0.3,\n",
    "        \"topP\": 0.1,\n",
    "        \"topK\": 20\n",
    "    }\n",
    "})"
   ]
  },
  {
   "cell_type": "markdown",
   "id": "a656a8c2",
   "metadata": {},
   "source": [
    "## Invoke foundation model via Boto3\n",
    "\n",
    "This section demonstrates how to send API requests to Amazon Bedrock using the boto3 client. The request requires three essential parameters:\n",
    "\n",
    "1. modelId: Specifies which foundation model to use (e.g., \"amazon.nova-lite-v1:0\", \"amazon.titan-text-express-v1\", \"anthropic.claude-v2\" )\n",
    "\n",
    "2. accept: Defines the expected response format (typically \"application/json\")\n",
    "\n",
    "3. contentType: Specifies the format of the request body (typically \"application/json\")\n",
    "\n",
    "The foundation model will process the input based on the provided prompt and model-specific configuration parameters. In the following prompt, the foundation model in Amazon Bedrock sumamrizes the text."
   ]
  },
  {
   "cell_type": "code",
   "execution_count": null,
   "id": "42812d1b",
   "metadata": {},
   "outputs": [
    {
     "ename": "ValidationException",
     "evalue": "An error occurred (ValidationException) when calling the InvokeModel operation: messages.0.content.0.type: Field required",
     "output_type": "error",
     "traceback": [
      "\u001b[31m---------------------------------------------------------------------------\u001b[39m",
      "\u001b[31mValidationException\u001b[39m                       Traceback (most recent call last)",
      "\u001b[36mCell\u001b[39m\u001b[36m \u001b[39m\u001b[32mIn[6]\u001b[39m\u001b[32m, line 25\u001b[39m\n\u001b[32m     20\u001b[39m        \u001b[38;5;28mprint\u001b[39m(\u001b[33mf\u001b[39m\u001b[33m\"\u001b[39m\u001b[38;5;130;01m\\x1b\u001b[39;00m\u001b[33m[41m\u001b[39m\u001b[38;5;132;01m{\u001b[39;00merror.response[\u001b[33m'\u001b[39m\u001b[33mError\u001b[39m\u001b[33m'\u001b[39m][\u001b[33m'\u001b[39m\u001b[33mMessage\u001b[39m\u001b[33m'\u001b[39m]\u001b[38;5;132;01m}\u001b[39;00m\u001b[38;5;130;01m\\\u001b[39;00m\n\u001b[32m     21\u001b[39m \u001b[33m            \u001b[39m\u001b[38;5;130;01m\\n\u001b[39;00m\u001b[33mTo troubeshoot this issue please refer to the following resources.\u001b[39m\u001b[38;5;130;01m\\\u001b[39;00m\n\u001b[32m     22\u001b[39m \u001b[33m             \u001b[39m\u001b[38;5;130;01m\\n\u001b[39;00m\u001b[33mhttps://docs.aws.amazon.com/IAM/latest/UserGuide/troubleshoot_access-denied.html\u001b[39m\u001b[38;5;130;01m\\\u001b[39;00m\n\u001b[32m     23\u001b[39m \u001b[33m             \u001b[39m\u001b[38;5;130;01m\\n\u001b[39;00m\u001b[33mhttps://docs.aws.amazon.com/bedrock/latest/userguide/security-iam.html\u001b[39m\u001b[38;5;130;01m\\x1b\u001b[39;00m\u001b[33m[0m\u001b[39m\u001b[38;5;130;01m\\n\u001b[39;00m\u001b[33m\"\u001b[39m)\n\u001b[32m     24\u001b[39m \u001b[38;5;28;01melse\u001b[39;00m:\n\u001b[32m---> \u001b[39m\u001b[32m25\u001b[39m     \u001b[38;5;28;01mraise\u001b[39;00m error\n",
      "\u001b[36mCell\u001b[39m\u001b[36m \u001b[39m\u001b[32mIn[6]\u001b[39m\u001b[32m, line 6\u001b[39m\n\u001b[32m      3\u001b[39m contentType = \u001b[33m'\u001b[39m\u001b[33mapplication/json\u001b[39m\u001b[33m'\u001b[39m\n\u001b[32m      5\u001b[39m \u001b[38;5;28;01mtry\u001b[39;00m:\n\u001b[32m----> \u001b[39m\u001b[32m6\u001b[39m     response = \u001b[43mboto3_bedrock\u001b[49m\u001b[43m.\u001b[49m\u001b[43minvoke_model\u001b[49m\u001b[43m(\u001b[49m\n\u001b[32m      7\u001b[39m \u001b[43m        \u001b[49m\u001b[43mbody\u001b[49m\u001b[43m=\u001b[49m\u001b[43mbody\u001b[49m\u001b[43m,\u001b[49m\u001b[43m \u001b[49m\n\u001b[32m      8\u001b[39m \u001b[43m        \u001b[49m\u001b[43mmodelId\u001b[49m\u001b[43m=\u001b[49m\u001b[43mmodelId\u001b[49m\u001b[43m,\u001b[49m\u001b[43m \u001b[49m\n\u001b[32m      9\u001b[39m \u001b[43m        \u001b[49m\u001b[43maccept\u001b[49m\u001b[43m=\u001b[49m\u001b[43maccept\u001b[49m\u001b[43m,\u001b[49m\u001b[43m \u001b[49m\n\u001b[32m     10\u001b[39m \u001b[43m        \u001b[49m\u001b[43mcontentType\u001b[49m\u001b[43m=\u001b[49m\u001b[43mcontentType\u001b[49m\n\u001b[32m     11\u001b[39m \u001b[43m    \u001b[49m\u001b[43m)\u001b[49m\n\u001b[32m     12\u001b[39m     response_body = json.loads(response.get(\u001b[33m'\u001b[39m\u001b[33mbody\u001b[39m\u001b[33m'\u001b[39m).read())\n\u001b[32m     14\u001b[39m     \u001b[38;5;66;03m# Nova models return response in a different format\u001b[39;00m\n",
      "\u001b[36mFile \u001b[39m\u001b[32m/usr/local/python/3.12.1/lib/python3.12/site-packages/botocore/client.py:570\u001b[39m, in \u001b[36mClientCreator._create_api_method.<locals>._api_call\u001b[39m\u001b[34m(self, *args, **kwargs)\u001b[39m\n\u001b[32m    566\u001b[39m     \u001b[38;5;28;01mraise\u001b[39;00m \u001b[38;5;167;01mTypeError\u001b[39;00m(\n\u001b[32m    567\u001b[39m         \u001b[33mf\u001b[39m\u001b[33m\"\u001b[39m\u001b[38;5;132;01m{\u001b[39;00mpy_operation_name\u001b[38;5;132;01m}\u001b[39;00m\u001b[33m() only accepts keyword arguments.\u001b[39m\u001b[33m\"\u001b[39m\n\u001b[32m    568\u001b[39m     )\n\u001b[32m    569\u001b[39m \u001b[38;5;66;03m# The \"self\" in this scope is referring to the BaseClient.\u001b[39;00m\n\u001b[32m--> \u001b[39m\u001b[32m570\u001b[39m \u001b[38;5;28;01mreturn\u001b[39;00m \u001b[38;5;28;43mself\u001b[39;49m\u001b[43m.\u001b[49m\u001b[43m_make_api_call\u001b[49m\u001b[43m(\u001b[49m\u001b[43moperation_name\u001b[49m\u001b[43m,\u001b[49m\u001b[43m \u001b[49m\u001b[43mkwargs\u001b[49m\u001b[43m)\u001b[49m\n",
      "\u001b[36mFile \u001b[39m\u001b[32m/usr/local/python/3.12.1/lib/python3.12/site-packages/botocore/context.py:124\u001b[39m, in \u001b[36mwith_current_context.<locals>.decorator.<locals>.wrapper\u001b[39m\u001b[34m(*args, **kwargs)\u001b[39m\n\u001b[32m    122\u001b[39m \u001b[38;5;28;01mif\u001b[39;00m hook:\n\u001b[32m    123\u001b[39m     hook()\n\u001b[32m--> \u001b[39m\u001b[32m124\u001b[39m \u001b[38;5;28;01mreturn\u001b[39;00m \u001b[43mfunc\u001b[49m\u001b[43m(\u001b[49m\u001b[43m*\u001b[49m\u001b[43margs\u001b[49m\u001b[43m,\u001b[49m\u001b[43m \u001b[49m\u001b[43m*\u001b[49m\u001b[43m*\u001b[49m\u001b[43mkwargs\u001b[49m\u001b[43m)\u001b[49m\n",
      "\u001b[36mFile \u001b[39m\u001b[32m/usr/local/python/3.12.1/lib/python3.12/site-packages/botocore/client.py:1031\u001b[39m, in \u001b[36mBaseClient._make_api_call\u001b[39m\u001b[34m(self, operation_name, api_params)\u001b[39m\n\u001b[32m   1027\u001b[39m     error_code = error_info.get(\u001b[33m\"\u001b[39m\u001b[33mQueryErrorCode\u001b[39m\u001b[33m\"\u001b[39m) \u001b[38;5;129;01mor\u001b[39;00m error_info.get(\n\u001b[32m   1028\u001b[39m         \u001b[33m\"\u001b[39m\u001b[33mCode\u001b[39m\u001b[33m\"\u001b[39m\n\u001b[32m   1029\u001b[39m     )\n\u001b[32m   1030\u001b[39m     error_class = \u001b[38;5;28mself\u001b[39m.exceptions.from_code(error_code)\n\u001b[32m-> \u001b[39m\u001b[32m1031\u001b[39m     \u001b[38;5;28;01mraise\u001b[39;00m error_class(parsed_response, operation_name)\n\u001b[32m   1032\u001b[39m \u001b[38;5;28;01melse\u001b[39;00m:\n\u001b[32m   1033\u001b[39m     \u001b[38;5;28;01mreturn\u001b[39;00m parsed_response\n",
      "\u001b[31mValidationException\u001b[39m: An error occurred (ValidationException) when calling the InvokeModel operation: messages.0.content.0.type: Field required"
     ]
    }
   ],
   "source": [
    "modelId = \"us.amazon.nova-lite-v1:0\"  # Nova Lite model ID\n",
    "accept = 'application/json'\n",
    "contentType = 'application/json'\n",
    "\n",
    "try:\n",
    "    response = boto3_bedrock.invoke_model(\n",
    "        body=body, \n",
    "        modelId=modelId, \n",
    "        accept=accept, \n",
    "        contentType=contentType\n",
    "    )\n",
    "    response_body = json.loads(response.get('body').read())\n",
    "    \n",
    "    # Nova models return response in a different format\n",
    "    content_text = response_body[\"output\"][\"message\"][\"content\"][0][\"text\"]\n",
    "    print(content_text)\n",
    "\n",
    "except botocore.exceptions.ClientError as error:\n",
    "    if error.response['Error']['Code'] == 'AccessDeniedException':\n",
    "           print(f\"\\x1b[41m{error.response['Error']['Message']}\\\n",
    "                \\nTo troubeshoot this issue please refer to the following resources.\\\n",
    "                 \\nhttps://docs.aws.amazon.com/IAM/latest/UserGuide/troubleshoot_access-denied.html\\\n",
    "                 \\nhttps://docs.aws.amazon.com/bedrock/latest/userguide/security-iam.html\\x1b[0m\\n\")\n",
    "    else:\n",
    "        raise error"
   ]
  },
  {
   "cell_type": "markdown",
   "id": "22d05f77",
   "metadata": {},
   "source": [
    "The model generates the entire summary for the given prompt in a single output. Note that this can be slow if the output contains a large number of tokens\n",
    "\n",
    "### Claude 3 Sonnet:\n",
    "A request payload for Claude 3 Sonnet that configures the model with specified inference parameters while processing the user's prompt."
   ]
  },
  {
   "cell_type": "code",
   "execution_count": 7,
   "id": "7543ec58",
   "metadata": {},
   "outputs": [],
   "source": [
    "body = json.dumps({\n",
    "    \"anthropic_version\": \"bedrock-2023-05-31\",\n",
    "    \"max_tokens\": 4096,\n",
    "    \"temperature\": 0.5,\n",
    "    \"top_k\":250,\n",
    "    \"top_p\":0.5,\n",
    "    \"messages\": [\n",
    "        {\n",
    "            \"role\": \"user\",\n",
    "            \"content\": [{\"type\": \"text\", \"text\": prompt}]\n",
    "        }\n",
    "    ],\n",
    "})"
   ]
  },
  {
   "cell_type": "code",
   "execution_count": 9,
   "id": "6b5325ca",
   "metadata": {},
   "outputs": [
    {
     "name": "stdout",
     "output_type": "stream",
     "text": [
      "# Summary\n",
      "\n",
      "Amazon announced Amazon Bedrock, a new service that provides API access to foundation models (FMs) from AI21 Labs, Anthropic, Stability AI, and Amazon. Bedrock aims to democratize access to generative AI by offering an easy way for customers to build and scale applications. The service includes text and image models, including Amazon's new Titan LLMs. As a serverless AWS managed service, Bedrock allows customers to find appropriate models, customize them with private data, and integrate them into applications using familiar AWS tools without managing infrastructure. The service integrates with Amazon SageMaker features like Experiments and Pipelines.\n"
     ]
    }
   ],
   "source": [
    "modelId = \"arn:aws:bedrock:us-east-1:183295442349:inference-profile/us.anthropic.claude-3-7-sonnet-20250219-v1:0\"\n",
    "accept = 'application/json'\n",
    "contentType = 'application/json'\n",
    "\n",
    "response = boto3_bedrock.invoke_model(body=body, modelId=modelId, accept=accept, contentType=contentType)\n",
    "response_body = json.loads(response.get('body').read())\n",
    "print(response_body[\"content\"][0][\"text\"])"
   ]
  },
  {
   "cell_type": "markdown",
   "id": "2c6e969b",
   "metadata": {},
   "source": [
    "### Conclusion on use case - 1. Text Summarization\n",
    "You have now experimented with using `boto3` SDK which provides a vanilla exposure to Amazon Bedrock API. Using this API you have seen the use case of generating a summary of AWS news about Amazon Bedrock.\n",
    "\n",
    "### Take aways\n",
    "- Adapt this notebook to experiment with different models available through Amazon Bedrock such as Anthropic Claude and AI21 Labs Jurassic models.\n",
    "- Change the prompts to your specific usecase and evaluate the output of different models.\n",
    "- Play with the token length to understand the latency and responsiveness of the service.\n",
    "- Apply different prompt engineering principles to get better outputs."
   ]
  },
  {
   "cell_type": "markdown",
   "id": "241d51ab",
   "metadata": {},
   "source": [
    "# 2. Code Generation: Generate Python and SQL code from natural language descriptions\n",
    "## Introduction\n",
    "\n",
    "In this notebook we show you how to use a LLM to generate code based on the text prompt. We will use Bedrock's Claude 3 Sonnet  using the Boto3 API. \n",
    "\n",
    "The prompt used in this example is called a zero-shot prompt because we are not providing any examples of text other than the prompt.\n",
    "\n",
    "**Note:** *This notebook can be run within or outside of AWS environment.*\n",
    "\n",
    "#### Context\n",
    "To demonstrate the code generation capability of Amazon Bedrock, we will explore the use of Boto3 client to communicate with Amazon Bedrock API. We will demonstrate different configurations available as well as how simple input can lead to desired outputs. We will explore code generation for two use cases:\n",
    "1. Python code generation for analytical QnA\n",
    "2. SQL query generation\n",
    "\n",
    "#### Pattern\n",
    "In both use cases, we will simply provide the Amazon Bedrock API with an input consisting of a task, an instruction and an input for the model under the hood to generate an output without providing any additional example. The purpose here is to demonstrate how the powerful LLMs easily understand the task at hand and generate compelling outputs.\n",
    "\n",
    "![](../imgs/bedrock-code-gen.png)\n",
    "\n",
    "## Use case 1 - Python code generation for Analytical QnA\n",
    "To demonstrate the generation capability of models in Amazon Bedrock, let's take the use case of code generation with Python to do some basic analytical QnA.\n",
    "\n",
    "#### Persona\n",
    "\n",
    "You are Moe, a Data Analyst, at AnyCompany. The company wants to understand its sales performance for different products for different products over the past year. You have been provided a dataset named sales.csv. The dataset contains the following columns:\n",
    "\n",
    "- Date (YYYY-MM-DD) format\n",
    "- Product_ID (unique identifer for each product)\n",
    "- Price (price at which each product was sold)\n",
    "\n",
    "#### Implementation\n",
    "To fulfill this use case, in this notebook we will show how to generate code for a given prompt. We will use the Anthropic Claude 3 using the Amazon Bedrock API with Boto3 client. \n"
   ]
  },
  {
   "cell_type": "markdown",
   "id": "d0493c27",
   "metadata": {},
   "source": [
    "## Code Generation\n",
    "\n",
    "Following on the use case explained above, let's prepare an input for  the Amazon Bedrock service to generate python program for our use-case."
   ]
  },
  {
   "cell_type": "markdown",
   "id": "af9024fc",
   "metadata": {},
   "source": [
    "#### Lab setup - create sample sales.csv data for this lab."
   ]
  },
  {
   "cell_type": "code",
   "execution_count": 10,
   "id": "f20f4756",
   "metadata": {},
   "outputs": [
    {
     "name": "stdout",
     "output_type": "stream",
     "text": [
      "sales.csv has been created!\n"
     ]
    }
   ],
   "source": [
    "# create sales.csv file\n",
    "import csv\n",
    "\n",
    "data = [\n",
    "    [\"date\", \"product_id\", \"price\", \"units_sold\"],\n",
    "    [\"2023-01-01\", \"P001\", 50, 20],\n",
    "    [\"2023-01-02\", \"P002\", 60, 15],\n",
    "    [\"2023-01-03\", \"P001\", 50, 18],\n",
    "    [\"2023-01-04\", \"P003\", 70, 30],\n",
    "    [\"2023-01-05\", \"P001\", 50, 25],\n",
    "    [\"2023-01-06\", \"P002\", 60, 22],\n",
    "    [\"2023-01-07\", \"P003\", 70, 24],\n",
    "    [\"2023-01-08\", \"P001\", 50, 28],\n",
    "    [\"2023-01-09\", \"P002\", 60, 17],\n",
    "    [\"2023-01-10\", \"P003\", 70, 29],\n",
    "    [\"2023-02-11\", \"P001\", 50, 23],\n",
    "    [\"2023-02-12\", \"P002\", 60, 19],\n",
    "    [\"2023-02-13\", \"P001\", 50, 21],\n",
    "    [\"2023-02-14\", \"P003\", 70, 31],\n",
    "    [\"2023-03-15\", \"P001\", 50, 26],\n",
    "    [\"2023-03-16\", \"P002\", 60, 20],\n",
    "    [\"2023-03-17\", \"P003\", 70, 33],\n",
    "    [\"2023-04-18\", \"P001\", 50, 27],\n",
    "    [\"2023-04-19\", \"P002\", 60, 18],\n",
    "    [\"2023-04-20\", \"P003\", 70, 32],\n",
    "    [\"2023-04-21\", \"P001\", 50, 22],\n",
    "    [\"2023-04-22\", \"P002\", 60, 16],\n",
    "    [\"2023-04-23\", \"P003\", 70, 34],\n",
    "    [\"2023-05-24\", \"P001\", 50, 24],\n",
    "    [\"2023-05-25\", \"P002\", 60, 21]\n",
    "]\n",
    "\n",
    "# Write data to sales.csv\n",
    "with open('sales.csv', 'w', newline='') as csvfile:\n",
    "    writer = csv.writer(csvfile)\n",
    "    writer.writerows(data)\n",
    "\n",
    "print(\"sales.csv has been created!\")"
   ]
  },
  {
   "cell_type": "markdown",
   "id": "0ce8f5a9",
   "metadata": {},
   "source": [
    "#### Analyzing sales with Amazon Bedrock generated Python program"
   ]
  },
  {
   "cell_type": "code",
   "execution_count": 11,
   "id": "086af5b4",
   "metadata": {},
   "outputs": [],
   "source": [
    "# Create the prompt\n",
    "# Analyzing sales\n",
    "\n",
    "prompt_data = \"\"\"\n",
    "You have a CSV, sales.csv, with columns:\n",
    "- date (YYYY-MM-DD)\n",
    "- product_id\n",
    "- price\n",
    "- units_sold\n",
    "\n",
    "Create a python program to analyze the sales data from a CSV file. The program should be able to read the data, and determine below:\n",
    "\n",
    "- Total revenue for the year\n",
    "- The product with the highest revenue\n",
    "- The date with the highest revenue\n",
    "- Visualize monthly sales using a bar chart\n",
    "\n",
    "Ensure the code is syntactically correct, bug-free, optimized, not span multiple lines unnessarily, and prefer to use standard libraries. Return only python code without any surrounding text, explanation or context.\n",
    "Do not use pandas library for the solution.\n",
    "\"\"\""
   ]
  },
  {
   "cell_type": "markdown",
   "id": "60c0d87f",
   "metadata": {},
   "source": [
    "Let's use the Anthropic Claude 3 Sonnet model."
   ]
  },
  {
   "cell_type": "code",
   "execution_count": 12,
   "id": "77021ab9",
   "metadata": {},
   "outputs": [],
   "source": [
    "body = json.dumps({\n",
    "    \"anthropic_version\": \"bedrock-2023-05-31\",\n",
    "    \"max_tokens\": 4096,\n",
    "    \"temperature\": 0.1,\n",
    "    \"top_k\":250,\n",
    "    \"top_p\":0.99,\n",
    "    \"messages\": [\n",
    "        {\n",
    "            \"role\": \"user\",\n",
    "            \"content\": [{\"type\": \"text\", \"text\": prompt_data}]\n",
    "        }\n",
    "    ],\n",
    "})"
   ]
  },
  {
   "cell_type": "markdown",
   "id": "d95f2fa4",
   "metadata": {},
   "source": [
    "Invoke the Anthropic Claude 3 Sonnet model to generate the code:"
   ]
  },
  {
   "cell_type": "code",
   "execution_count": 13,
   "id": "3f07c71c",
   "metadata": {},
   "outputs": [
    {
     "name": "stdout",
     "output_type": "stream",
     "text": [
      "```python\n",
      "import csv\n",
      "from datetime import datetime\n",
      "import matplotlib.pyplot as plt\n",
      "from collections import defaultdict\n",
      "\n",
      "def analyze_sales(file_path):\n",
      "    # Initialize data structures\n",
      "    total_revenue = 0\n",
      "    product_revenue = defaultdict(float)\n",
      "    date_revenue = defaultdict(float)\n",
      "    monthly_revenue = defaultdict(float)\n",
      "    \n",
      "    # Read and process the CSV file\n",
      "    with open(file_path, 'r') as file:\n",
      "        reader = csv.DictReader(file)\n",
      "        for row in reader:\n",
      "            date = row['date']\n",
      "            product_id = row['product_id']\n",
      "            price = float(row['price'])\n",
      "            units_sold = int(row['units_sold'])\n",
      "            \n",
      "            # Calculate revenue for this sale\n",
      "            revenue = price * units_sold\n",
      "            \n",
      "            # Update total revenue\n",
      "            total_revenue += revenue\n",
      "            \n",
      "            # Update product revenue\n",
      "            product_revenue[product_id] += revenue\n",
      "            \n",
      "            # Update date revenue\n",
      "            date_revenue[date] += revenue\n",
      "            \n",
      "            # Update monthly revenue\n",
      "            month = date[:7]  # Extract YYYY-MM\n",
      "            monthly_revenue[month] += revenue\n",
      "    \n",
      "    # Find product with highest revenue\n",
      "    highest_revenue_product = max(product_revenue.items(), key=lambda x: x[1])\n",
      "    \n",
      "    # Find date with highest revenue\n",
      "    highest_revenue_date = max(date_revenue.items(), key=lambda x: x[1])\n",
      "    \n",
      "    # Visualize monthly sales\n",
      "    months = sorted(monthly_revenue.keys())\n",
      "    revenues = [monthly_revenue[month] for month in months]\n",
      "    \n",
      "    plt.figure(figsize=(12, 6))\n",
      "    plt.bar(months, revenues)\n",
      "    plt.xlabel('Month')\n",
      "    plt.ylabel('Revenue')\n",
      "    plt.title('Monthly Sales Revenue')\n",
      "    plt.xticks(rotation=45)\n",
      "    plt.tight_layout()\n",
      "    plt.savefig('monthly_sales.png')\n",
      "    \n",
      "    return {\n",
      "        'total_revenue': total_revenue,\n",
      "        'highest_revenue_product': highest_revenue_product,\n",
      "        'highest_revenue_date': highest_revenue_date,\n",
      "        'monthly_revenue': dict(monthly_revenue)\n",
      "    }\n",
      "\n",
      "if __name__ == \"__main__\":\n",
      "    results = analyze_sales('sales.csv')\n",
      "    print(f\"Total Revenue: ${results['total_revenue']:.2f}\")\n",
      "    print(f\"Product with Highest Revenue: {results['highest_revenue_product'][0]} (${results['highest_revenue_product'][1]:.2f})\")\n",
      "    print(f\"Date with Highest Revenue: {results['highest_revenue_date'][0]} (${results['highest_revenue_date'][1]:.2f})\")\n",
      "    print(\"Monthly sales chart saved as 'monthly_sales.png'\")\n",
      "```"
     ]
    }
   ],
   "source": [
    "from IPython.display import clear_output, display, display_markdown, Markdown\n",
    "modelId = \"arn:aws:bedrock:us-east-1:183295442349:inference-profile/us.anthropic.claude-3-7-sonnet-20250219-v1:0\"\n",
    "accept = 'application/json'\n",
    "contentType = 'application/json'\n",
    "\n",
    "response = boto3_bedrock.invoke_model(body=body, modelId=modelId, accept=accept, contentType=contentType)\n",
    "response_body = json.loads(response.get('body').read())\n",
    "\n",
    "display_markdown(Markdown(print(response_body[\"content\"][0][\"text\"], end='')))"
   ]
  },
  {
   "cell_type": "markdown",
   "id": "04313c16",
   "metadata": {},
   "source": [
    "#### (Optional) Execute the Bedrock generated code for validation. Go to text editor to copy the generated code as printed output can be trucncated. Replace the code in below cell."
   ]
  },
  {
   "cell_type": "code",
   "execution_count": 14,
   "id": "6f2c28aa",
   "metadata": {},
   "outputs": [
    {
     "name": "stdout",
     "output_type": "stream",
     "text": [
      "Total Revenue: $35490.00\n",
      "Product with Highest Revenue: P003 ($14910.00)\n",
      "Date with Highest Revenue: 2023-04-23 ($2380.00)\n",
      "Monthly sales chart saved as 'monthly_sales.png'\n"
     ]
    },
    {
     "data": {
      "image/png": "[encoded data removed]",
      "text/plain": [
       "<Figure size 1200x600 with 1 Axes>"
      ]
     },
     "metadata": {},
     "output_type": "display_data"
    }
   ],
   "source": [
    "# Sample Generated Python Code ( Generated with Amazon Bedrock in previous step)\n",
    "\n",
    "import csv\n",
    "from datetime import datetime\n",
    "import matplotlib.pyplot as plt\n",
    "from collections import defaultdict\n",
    "\n",
    "def analyze_sales(file_path):\n",
    "    # Initialize data structures\n",
    "    total_revenue = 0\n",
    "    product_revenue = defaultdict(float)\n",
    "    date_revenue = defaultdict(float)\n",
    "    monthly_revenue = defaultdict(float)\n",
    "    \n",
    "    # Read and process the CSV file\n",
    "    with open(file_path, 'r') as file:\n",
    "        reader = csv.DictReader(file)\n",
    "        for row in reader:\n",
    "            date = row['date']\n",
    "            product_id = row['product_id']\n",
    "            price = float(row['price'])\n",
    "            units_sold = int(row['units_sold'])\n",
    "            \n",
    "            # Calculate revenue for this sale\n",
    "            revenue = price * units_sold\n",
    "            \n",
    "            # Update total revenue\n",
    "            total_revenue += revenue\n",
    "            \n",
    "            # Update product revenue\n",
    "            product_revenue[product_id] += revenue\n",
    "            \n",
    "            # Update date revenue\n",
    "            date_revenue[date] += revenue\n",
    "            \n",
    "            # Update monthly revenue\n",
    "            month = date[:7]  # Extract YYYY-MM\n",
    "            monthly_revenue[month] += revenue\n",
    "    \n",
    "    # Find product with highest revenue\n",
    "    highest_revenue_product = max(product_revenue.items(), key=lambda x: x[1])\n",
    "    \n",
    "    # Find date with highest revenue\n",
    "    highest_revenue_date = max(date_revenue.items(), key=lambda x: x[1])\n",
    "    \n",
    "    # Visualize monthly sales\n",
    "    months = sorted(monthly_revenue.keys())\n",
    "    revenues = [monthly_revenue[month] for month in months]\n",
    "    \n",
    "    plt.figure(figsize=(12, 6))\n",
    "    plt.bar(months, revenues)\n",
    "    plt.xlabel('Month')\n",
    "    plt.ylabel('Revenue')\n",
    "    plt.title('Monthly Sales Revenue')\n",
    "    plt.xticks(rotation=45)\n",
    "    plt.tight_layout()\n",
    "    plt.savefig('monthly_sales.png')\n",
    "    \n",
    "    return {\n",
    "        'total_revenue': total_revenue,\n",
    "        'highest_revenue_product': highest_revenue_product,\n",
    "        'highest_revenue_date': highest_revenue_date,\n",
    "        'monthly_revenue': dict(monthly_revenue)\n",
    "    }\n",
    "\n",
    "if __name__ == \"__main__\":\n",
    "    results = analyze_sales('sales.csv')\n",
    "    print(f\"Total Revenue: ${results['total_revenue']:.2f}\")\n",
    "    print(f\"Product with Highest Revenue: {results['highest_revenue_product'][0]} (${results['highest_revenue_product'][1]:.2f})\")\n",
    "    print(f\"Date with Highest Revenue: {results['highest_revenue_date'][0]} (${results['highest_revenue_date'][1]:.2f})\")\n",
    "    print(\"Monthly sales chart saved as 'monthly_sales.png'\")"
   ]
  },
  {
   "cell_type": "markdown",
   "id": "9a705e36",
   "metadata": {},
   "source": [
    "## Use case 2 - SQL query generation\n",
    "\n",
    "In this section we show you how to use a LLM to generate SQL queries to analyze Sales data. We will use Bedrock's Claude 3 Sonnet model using the Boto3 API. \n",
    "\n",
    "The prompt used in this example is called a zero-shot prompt because we are not providing any examples of text other than the prompt.\n",
    "\n",
    "#### Pattern\n",
    "We will simply provide the Amazon Bedrock API with an input consisting of a task, an instruction and an input for the model to generate an output without providing any additional examples. The purpose here is to demonstrate how the powerful LLMs easily understand the task at hand and generate compelling outputs.\n",
    "\n",
    "#### Use case\n",
    "Let's take the use case to generate SQL queries to analyze sales data, focusing on top products and average monthly sales.\n",
    "\n",
    "#### Persona\n",
    "Maya is a business analyst, at AnyCompany primarily focusing on sales and inventory data. She is transitioning from Speadsheet analysis to data-driven analysis and want to use SQL to fetch specific data points effectively. She wants to use LLMs to generate SQL queries for her analysis. \n",
    "\n",
    "#### Implementation\n",
    "To fulfill this use case, in this notebook we will show how to generate SQL queries. We will use the Anthropic Claude 3 model using the Amazon Bedrock API with Boto3 client. "
   ]
  },
  {
   "cell_type": "markdown",
   "id": "902aab8b",
   "metadata": {},
   "source": [
    "### Generate SQL Query\n",
    "\n",
    "Following on the use case explained above, let's prepare an input for  the Amazon Bedrock service to generate some SQL queries."
   ]
  },
  {
   "cell_type": "code",
   "execution_count": 15,
   "id": "09205c8e",
   "metadata": {},
   "outputs": [],
   "source": [
    "# create the prompt to generate SQL query\n",
    "prompt_data = \"\"\"\n",
    "AnyCompany has a database with a table named sales_data containing sales records. The table has following columns:\n",
    "- date (YYYY-MM-DD)\n",
    "- product_id\n",
    "- price\n",
    "- units_sold\n",
    "\n",
    "Can you generate SQL queries for the below: \n",
    "- Identify the top 5 best selling products by total sales for the year 2023\n",
    "- Calculate the average of total monthly sales for the year 2023\n",
    "\"\"\""
   ]
  },
  {
   "cell_type": "markdown",
   "id": "0a8618b0",
   "metadata": {},
   "source": [
    "Let's use the Claude 3 Sonnet model: "
   ]
  },
  {
   "cell_type": "code",
   "execution_count": 16,
   "id": "ffdc8ece",
   "metadata": {},
   "outputs": [],
   "source": [
    "body = json.dumps({\n",
    "    \"anthropic_version\": \"bedrock-2023-05-31\",\n",
    "    \"max_tokens\": 4096,\n",
    "    \"temperature\": 0.1,\n",
    "    \"top_k\":250,\n",
    "    \"top_p\":0.99,\n",
    "    \"messages\": [\n",
    "        {\n",
    "            \"role\": \"user\",\n",
    "            \"content\": [{\"type\": \"text\", \"text\": prompt_data}]\n",
    "        }\n",
    "    ],\n",
    "})"
   ]
  },
  {
   "cell_type": "code",
   "execution_count": 17,
   "id": "ae67a4b9",
   "metadata": {},
   "outputs": [
    {
     "name": "stdout",
     "output_type": "stream",
     "text": [
      "# SQL Queries for AnyCompany Sales Analysis\n",
      "\n",
      "## Top 5 Best Selling Products by Total Sales for 2023\n",
      "\n",
      "```sql\n",
      "SELECT \n",
      "    product_id,\n",
      "    SUM(price * units_sold) AS total_sales\n",
      "FROM \n",
      "    sales_data\n",
      "WHERE \n",
      "    date BETWEEN '2023-01-01' AND '2023-12-31'\n",
      "GROUP BY \n",
      "    product_id\n",
      "ORDER BY \n",
      "    total_sales DESC\n",
      "LIMIT 5;\n",
      "```\n",
      "\n",
      "This query:\n",
      "- Calculates the total sales amount (price × units_sold) for each product\n",
      "- Filters for only 2023 sales data\n",
      "- Groups the results by product_id\n",
      "- Orders the results by total sales in descending order\n",
      "- Limits the output to the top 5 products\n",
      "\n",
      "## Average of Total Monthly Sales for 2023\n",
      "\n",
      "```sql\n",
      "SELECT \n",
      "    AVG(monthly_sales) AS average_monthly_sales\n",
      "FROM (\n",
      "    SELECT \n",
      "        EXTRACT(MONTH FROM date) AS month,\n",
      "        SUM(price * units_sold) AS monthly_sales\n",
      "    FROM \n",
      "        sales_data\n",
      "    WHERE \n",
      "        date BETWEEN '2023-01-01' AND '2023-12-31'\n",
      "    GROUP BY \n",
      "        EXTRACT(MONTH FROM date)\n",
      ") AS monthly_totals;\n",
      "```\n",
      "\n",
      "This query:\n",
      "- Creates a subquery that calculates the total sales for each month in 2023\n",
      "- Extracts the month from the date column\n",
      "- Groups the sales data by month\n",
      "- Calculates the sum of (price × units_sold) for each month\n",
      "- The outer query then calculates the average of these monthly totals"
     ]
    }
   ],
   "source": [
    "from IPython.display import clear_output, display, display_markdown, Markdown\n",
    "\n",
    "modelId = \"arn:aws:bedrock:us-east-1:183295442349:inference-profile/us.anthropic.claude-3-7-sonnet-20250219-v1:0\"\n",
    "accept = 'application/json'\n",
    "contentType = 'application/json'\n",
    "\n",
    "response = boto3_bedrock.invoke_model(body=body, modelId=modelId, accept=accept, contentType=contentType)\n",
    "response_body = json.loads(response.get('body').read())\n",
    "\n",
    "display_markdown(Markdown(print(response_body[\"content\"][0][\"text\"], end='')))\n"
   ]
  },
  {
   "cell_type": "markdown",
   "id": "a3660c4c",
   "metadata": {},
   "source": [
    "## Conclusion on use case 2 - Code Generation\n",
    "You have now experimented with using `boto3` SDK which provides a vanilla exposure to Amazon Bedrock API. Using this API you generate a python program to analyze and visualize given sales data, and generate SQL statements based on an input task and schema.\n",
    "\n",
    "### Take aways\n",
    "- Adapt this notebook to experiment with different models available through Amazon Bedrock such as Amazon Titan and AI21 Labs Jurassic models!\n"
   ]
  },
  {
   "cell_type": "markdown",
   "id": "afe1e937",
   "metadata": {},
   "source": [
    "## 3. Entity Extraction: Extract structured information from unstructured text\n",
    "\n",
    "### Context\n",
    "Entity extraction is an NLP technique that allows us to automatically extract specific data from naturally written text, such as news, emails, books, etc.\n",
    "That data can then later be saved to a database, used for lookup or any other type of processing.\n",
    "\n",
    "Classic entity extraction programs usually limit you to pre-defined classes, such as name, address, price, etc. or require you to provide many examples of types of entities you are interested in.\n",
    "By using a LLM for entity extraction, in most cases you are only required to specify what you need to extract in natural language. This gives you flexibility and accuracy in your queries, while saving time by removing the need for data labeling.\n",
    "\n",
    "In addition, LLM entity extraction can be used to help you assemble a dataset to create a customised solution for your use case, such as [Amazon Comprehend custom entity](https://docs.aws.amazon.com/comprehend/latest/dg/custom-entity-recognition.html) recognition."
   ]
  },
  {
   "cell_type": "markdown",
   "id": "dec77dfc",
   "metadata": {},
   "source": [
    "## Entity Extraction\n",
    "\n",
    "For this exercise we will pretend to be an online bookstore that receives questions and orders by email.\n",
    "Our task is to extract relevant information from the email to process the order.\n",
    "\n",
    "Let's begin by taking a look at the sample email:"
   ]
  },
  {
   "cell_type": "code",
   "execution_count": null,
   "id": "b1a3a618",
   "metadata": {},
   "outputs": [],
   "source": [
    "from pathlib import Path\n",
    "\n",
    "emails_dir = Path(\".\") / \"emails\"\n",
    "with open(emails_dir / \"00_treasure_island.txt\") as f:\n",
    "    book_question_email = f.read()\n",
    "\n",
    "print(book_question_email)"
   ]
  },
  {
   "cell_type": "markdown",
   "id": "5dbd6c28",
   "metadata": {},
   "source": [
    "### Basic approach\n",
    "\n",
    "First, let's define a function to process queries using Claude 3. In the below, we use a system prompt to tell the\n",
    "LLM to act as a bookstore assistant."
   ]
  },
  {
   "cell_type": "code",
   "execution_count": null,
   "id": "94f5424f",
   "metadata": {},
   "outputs": [],
   "source": [
    "def bookstore_assistant(query: str) -> str:\n",
    "    body = json.dumps({\n",
    "        \"anthropic_version\": \"bedrock-2023-05-31\",\n",
    "        \"max_tokens\": 4096,\n",
    "        \"temperature\": 0.1,\n",
    "        \"top_k\":250,\n",
    "        \"top_p\":0.99,\n",
    "        \"system\": \"You are a helpful assistant that processes orders from a bookstore.\",\n",
    "        \"messages\": [\n",
    "            {\n",
    "                \"role\": \"user\",\n",
    "                \"content\": [{\"type\": \"text\", \"text\": query}]\n",
    "            }\n",
    "        ],\n",
    "    })\n",
    "    modelId = \"anthropic.claude-3-sonnet-20240229-v1:0\"\n",
    "    accept = 'application/json'\n",
    "    contentType = 'application/json'\n",
    "\n",
    "    response = boto3_bedrock.invoke_model(body=body, modelId=modelId, accept=accept, contentType=contentType)\n",
    "    response_body = json.loads(response.get('body').read())\n",
    "\n",
    "    return response_body[\"content\"][0][\"text\"]"
   ]
  },
  {
   "cell_type": "markdown",
   "id": "3b9f7ec0",
   "metadata": {},
   "source": [
    "For basic cases we can directly ask the model to return the result. Let's try extracting the name of the book."
   ]
  },
  {
   "cell_type": "code",
   "execution_count": null,
   "id": "698e5441",
   "metadata": {},
   "outputs": [],
   "source": [
    "query = f\"\"\"\n",
    "Given the email inside triple-backticks, please read it and analyse the contents.\n",
    "If a name of a book is mentioned, return it, otherwise return nothing.\n",
    "\n",
    "Email: ```\n",
    "{book_question_email}\n",
    "```\n",
    "\n",
    "\"\"\""
   ]
  },
  {
   "cell_type": "code",
   "execution_count": null,
   "id": "24b807c3",
   "metadata": {},
   "outputs": [],
   "source": [
    "result = bookstore_assistant(query)\n",
    "print(result)"
   ]
  },
  {
   "cell_type": "markdown",
   "id": "9de0e9d1",
   "metadata": {},
   "source": [
    "### Model specific prompts\n",
    "\n",
    "While basic approach works, to achieve best results we recommend to customise your prompts for the particular model you will be using.\n",
    "In this example we are using `anthropic.claude-3`, [prompt guide for which can be found here](https://docs.anthropic.com/claude/docs/introduction-to-prompt-design).\n",
    "\n",
    "Here is the a more optimised prompt for Claude v3."
   ]
  },
  {
   "cell_type": "code",
   "execution_count": null,
   "id": "9e4f602b",
   "metadata": {},
   "outputs": [],
   "source": [
    "prompt = \"\"\"\n",
    "\n",
    "Given the email provided, please read it and analyse the contents.\n",
    "If a name of a book is mentioned, return it.\n",
    "If no name is mentioned, return empty string.\n",
    "The email will be given between <email></email> XML tags.\n",
    "\n",
    "<email>\n",
    "{email}\n",
    "</email>\n",
    "\n",
    "Return the name of the book between <book></book> XML tags.\n",
    "\n",
    "\"\"\"\n",
    "query = prompt.format(email=book_question_email)"
   ]
  },
  {
   "cell_type": "code",
   "execution_count": null,
   "id": "601ffe06",
   "metadata": {},
   "outputs": [],
   "source": [
    "result = bookstore_assistant(query)\n",
    "print(result)"
   ]
  },
  {
   "cell_type": "markdown",
   "id": "f0c54a32",
   "metadata": {},
   "source": [
    "To extract results easier, we can use a helper function:"
   ]
  },
  {
   "cell_type": "code",
   "execution_count": null,
   "id": "780e3643",
   "metadata": {},
   "outputs": [],
   "source": [
    "from bs4 import BeautifulSoup\n",
    "\n",
    "def extract_by_tag(response: str, tag: str, extract_all=False) -> str | list[str] | None:\n",
    "    soup = BeautifulSoup(response)\n",
    "    results = soup.find_all(tag)\n",
    "    if not results:\n",
    "        return\n",
    "        \n",
    "    texts = [res.get_text() for res in results]\n",
    "    if extract_all:\n",
    "        return texts\n",
    "    return texts[-1]"
   ]
  },
  {
   "cell_type": "code",
   "execution_count": null,
   "id": "d8c64bc0",
   "metadata": {},
   "outputs": [],
   "source": [
    "extract_by_tag(result, \"book\")"
   ]
  },
  {
   "cell_type": "markdown",
   "id": "ea235a81",
   "metadata": {},
   "source": [
    "We can check that our model doesn't return arbitrary results when no appropriate information is given (also know as 'hallucination'), by running our prompt on other emails."
   ]
  },
  {
   "cell_type": "code",
   "execution_count": null,
   "id": "57079295",
   "metadata": {},
   "outputs": [],
   "source": [
    "with open(emails_dir / \"01_return.txt\") as f:\n",
    "    return_email = f.read()\n",
    "\n",
    "print(return_email)"
   ]
  },
  {
   "cell_type": "code",
   "execution_count": null,
   "id": "4611536c",
   "metadata": {},
   "outputs": [],
   "source": [
    "query = prompt.format(email=return_email)\n",
    "result = bookstore_assistant(query)\n",
    "print(result)"
   ]
  },
  {
   "cell_type": "markdown",
   "id": "32e88bb4",
   "metadata": {},
   "source": [
    "Using tags also allows us to extract multiple pieces of information at the same time and makes extraction much easier.\n",
    "In the following prompt we will extract not just the book name, but any questions, requests and customer name."
   ]
  },
  {
   "cell_type": "code",
   "execution_count": null,
   "id": "c4c464d6",
   "metadata": {},
   "outputs": [],
   "source": [
    "prompt = \"\"\"\n",
    "Given email provided , please read it and analyse the contents.\n",
    "\n",
    "Please extract the following information from the email:\n",
    "- Any questions the customer is asking, return it inside <questions></questions> XML tags.\n",
    "- The customer full name, return it inside <name></name> XML tags.\n",
    "- Any book names the customer mentions, return it inside <books></books> XML tags.\n",
    "\n",
    "If a particular bit of information is not present, return an empty string.\n",
    "Make sure that each question can be understoon by itself, incorporate context if requred.\n",
    "Each returned question should be concise, remove extra information if possible.\n",
    "The email will be given between <email></email> XML tags.\n",
    "\n",
    "<email>\n",
    "{email}\n",
    "</email>\n",
    "\n",
    "Return each question inside <question></question> XML tags.\n",
    "Return the name of each book inside <book></book> XML tags.\n",
    "\"\"\""
   ]
  },
  {
   "cell_type": "code",
   "execution_count": null,
   "id": "eb28d2da",
   "metadata": {},
   "outputs": [],
   "source": [
    "query = prompt.format(email=book_question_email)\n",
    "result = bookstore_assistant(query)\n",
    "print(result)"
   ]
  },
  {
   "cell_type": "code",
   "execution_count": null,
   "id": "ca77fdb3",
   "metadata": {},
   "outputs": [],
   "source": [
    "extract_by_tag(result, \"question\", extract_all=True)"
   ]
  },
  {
   "cell_type": "code",
   "execution_count": null,
   "id": "0d5e46ba",
   "metadata": {},
   "outputs": [],
   "source": [
    "extract_by_tag(result, \"name\")"
   ]
  },
  {
   "cell_type": "code",
   "execution_count": null,
   "id": "a012b372",
   "metadata": {},
   "outputs": [],
   "source": [
    "extract_by_tag(result, \"book\", extract_all=True)"
   ]
  },
  {
   "cell_type": "markdown",
   "id": "fbd881de",
   "metadata": {},
   "source": [
    "### Conclusion on use case - 3 Entity Extraction\n",
    "\n",
    "Entity extraction is a powerful technique using which you can extract arbitrary data using plain text descriptions.\n",
    "\n",
    "This is particularly useful when you need to extract specific data which doesn't have clear structure. In such cases regex and other traditional extraction techniques can be very difficult to implement.\n",
    "\n",
    "### Take aways\n",
    "- Adapt this notebook to experiment with different models available through Amazon Bedrock such as Amazon Titan and AI21 Labs Jurassic models.\n",
    "- Change the prompts to your specific usecase and evaluate the output of different models.\n",
    "- Apply different prompt engineering principles to get better outputs. Refer to the prompt guide for your chosen model for recommendations, e.g. [here is the prompt guide for Claude](https://docs.anthropic.com/claude/docs/introduction-to-prompt-design)."
   ]
  },
  {
   "cell_type": "markdown",
   "id": "00b569aa",
   "metadata": {},
   "source": [
    "## Conclusion\n",
    "\n",
    "In this notebook, we've explored text generation capabilities with Amazon Bedrock for the following use cases:\n",
    "\n",
    "1. **Text Summarization**: Create concise summaries from longer text passages\n",
    "2. **Code Generation**: Generate Python and SQL code from natural language descriptions\n",
    "3. **Entity Extraction**: Extract structured information from unstructured text\n"
   ]
  }
 ],
 "metadata": {
  "kernelspec": {
   "display_name": "Python 3",
   "language": "python",
   "name": "python3"
  },
  "language_info": {
   "codemirror_mode": {
    "name": "ipython",
    "version": 3
   },
   "file_extension": ".py",
   "mimetype": "text/x-python",
   "name": "python",
   "nbconvert_exporter": "python",
   "pygments_lexer": "ipython3",
   "version": "3.12.1"
  }
 },
 "nbformat": 4,
 "nbformat_minor": 5
}
