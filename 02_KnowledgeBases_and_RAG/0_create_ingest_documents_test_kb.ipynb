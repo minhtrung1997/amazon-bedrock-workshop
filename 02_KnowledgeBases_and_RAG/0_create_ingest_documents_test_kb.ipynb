{
 "cells": [
  {
   "cell_type": "markdown",
   "metadata": {},
   "source": [
    "# Knowledge Bases for Amazon Bedrock - End to end example\n",
    "\n",
    "This notebook provides sample code for building an empty OpenSearch Serverless (OSS) index, Amazon Bedrock knowledge base and ingest documents into the index.\n",
    "\n",
    "\n",
    "#### Notebook Walkthrough\n",
    "\n",
    "A data pipeline that ingests documents (typically stored in Amazon S3) into a knowledge base i.e. a vector database such as Amazon OpenSearch Service Serverless (AOSS) so that it is available for lookup when a question is received.\n",
    "\n",
    "- Load the documents into the knowledge base by connecting your s3 bucket (data source). \n",
    "- Ingestion - Knowledge base will split them into smaller chunks (based on the strategy selected), generate embeddings and store it in the associated vectore store.\n",
    "\n",
    "![data_ingestion.png](./images/data_ingestion.png)\n",
    "\n",
    "\n",
    "#### Steps: \n",
    "- Create Amazon Bedrock Knowledge Base execution role with necessary policies for accessing data from S3 and writing embeddings into OSS.\n",
    "- Create an empty OpenSearch serverless index.\n",
    "- Download documents\n",
    "- Create Amazon Bedrock knowledge base\n",
    "- Create a data source within knowledge base which will connect to Amazon S3\n",
    "- Start an ingestion job using KB APIs which will read data from s3, chunk it, convert chunks into embeddings using Amazon Titan Embeddings model and then store these embeddings in AOSS. All of this without having to build, deploy and manage the data pipeline.\n",
    "\n",
    "Once the data is available in the Bedrock Knowledge Base then a question answering application can be built using the Knowledge Base APIs provided by Amazon Bedrock in following notebooks in the same folder. \n",
    "- [1_managed-rag-kb-retrieve-generate-api.ipynb](./1\\_managed-rag-kb-retrieve-generate-api.ipynb)\n",
    "- [2_customized-rag-retrieve-api-claude-v2.ipynb](./2\\_customized-rag-retrieve-api-claude-v2.ipynb)\n",
    "- [3_customized-rag-retrieve-api-langchain-claude-v2.ipynb](./3\\_customized-rag-retrieve-api-langchain-claude-v2.ipynb)\n"
   ]
  },
  {
   "cell_type": "markdown",
   "metadata": {},
   "source": [
    "#### Pre-requisites\n",
    "This notebook requires permissions to:\n",
    "- create and delete Amazon IAM roles\n",
    "- create, update and delete Amazon S3 buckets\n",
    "- access Amazon Bedrock\n",
    "- access to Amazon OpenSearch Serverless\n",
    "\n",
    "If running on SageMaker Studio, you should add the following managed policies to your role:\n",
    "- IAMFullAccess\n",
    "- AWSLambda_FullAccess\n",
    "- AmazonS3FullAccess\n",
    "- AmazonBedrockFullAccess\n",
    "- Custom policy for Amazon OpenSearch Serverless such as:\n",
    "```\n",
    "{\n",
    "    \"Version\": \"2012-10-17\",\n",
    "    \"Statement\": [\n",
    "        {\n",
    "            \"Effect\": \"Allow\",\n",
    "            \"Action\": \"aoss:*\",\n",
    "            \"Resource\": \"*\"\n",
    "        }\n",
    "    ]\n",
    "}\n",
    "```\n",
    "<div class=\"alert alert-block alert-info\">\n",
    "<b>Note:</b> Please make sure to enable `Anthropic Claude 3 Sonnet`  and `Anthropic Claude 3 Haiku` model access in Amazon Bedrock Console, as the notebook will use Anthropic Claude 3 Sonnet and Claude 3 Haiku models for testing the knowledge base once its created.\n",
    "</div>\n"
   ]
  },
  {
   "cell_type": "markdown",
   "metadata": {},
   "source": [
    "## Setup\n",
    "Before running the rest of this notebook, you'll need to run the cells below to (ensure necessary libraries are installed and) connect to Bedrock."
   ]
  },
  {
   "cell_type": "code",
   "execution_count": 4,
   "metadata": {},
   "outputs": [
    {
     "name": "stdout",
     "output_type": "stream",
     "text": [
      "\u001b[33m  WARNING: The script tqdm is installed in '/usr/local/python/3.12.1/bin' which is not on PATH.\n",
      "  Consider adding this directory to PATH or, if you prefer to suppress this warning, use --no-warn-script-location.\u001b[0m\u001b[33m\n",
      "\u001b[0m\u001b[33m  WARNING: The script dotenv is installed in '/usr/local/python/3.12.1/bin' which is not on PATH.\n",
      "  Consider adding this directory to PATH or, if you prefer to suppress this warning, use --no-warn-script-location.\u001b[0m\u001b[33m\n",
      "\u001b[0m\u001b[33m  WARNING: The script pygmentize is installed in '/usr/local/python/3.12.1/bin' which is not on PATH.\n",
      "  Consider adding this directory to PATH or, if you prefer to suppress this warning, use --no-warn-script-location.\u001b[0m\u001b[33m\n",
      "\u001b[0m\u001b[33m  WARNING: The scripts f2py and numpy-config are installed in '/usr/local/python/3.12.1/bin' which is not on PATH.\n",
      "  Consider adding this directory to PATH or, if you prefer to suppress this warning, use --no-warn-script-location.\u001b[0m\u001b[33m\n",
      "\u001b[0m\u001b[33m  WARNING: The script docutils is installed in '/usr/local/python/3.12.1/bin' which is not on PATH.\n",
      "  Consider adding this directory to PATH or, if you prefer to suppress this warning, use --no-warn-script-location.\u001b[0m\u001b[33m\n",
      "\u001b[0m\u001b[33m  WARNING: The script distro is installed in '/usr/local/python/3.12.1/bin' which is not on PATH.\n",
      "  Consider adding this directory to PATH or, if you prefer to suppress this warning, use --no-warn-script-location.\u001b[0m\u001b[33m\n",
      "\u001b[0m\u001b[33m  WARNING: The script normalizer is installed in '/usr/local/python/3.12.1/bin' which is not on PATH.\n",
      "  Consider adding this directory to PATH or, if you prefer to suppress this warning, use --no-warn-script-location.\u001b[0m\u001b[33m\n",
      "\u001b[0m\u001b[33m  WARNING: The scripts pyrsa-decrypt, pyrsa-encrypt, pyrsa-keygen, pyrsa-priv2pub, pyrsa-sign and pyrsa-verify are installed in '/usr/local/python/3.12.1/bin' which is not on PATH.\n",
      "  Consider adding this directory to PATH or, if you prefer to suppress this warning, use --no-warn-script-location.\u001b[0m\u001b[33m\n",
      "\u001b[0m\u001b[33m  WARNING: The scripts ipython and ipython3 are installed in '/usr/local/python/3.12.1/bin' which is not on PATH.\n",
      "  Consider adding this directory to PATH or, if you prefer to suppress this warning, use --no-warn-script-location.\u001b[0m\u001b[33m\n",
      "\u001b[0m\u001b[33m  WARNING: The script huggingface-cli is installed in '/usr/local/python/3.12.1/bin' which is not on PATH.\n",
      "  Consider adding this directory to PATH or, if you prefer to suppress this warning, use --no-warn-script-location.\u001b[0m\u001b[33m\n",
      "\u001b[0m\u001b[33m  WARNING: The script httpx is installed in '/usr/local/python/3.12.1/bin' which is not on PATH.\n",
      "  Consider adding this directory to PATH or, if you prefer to suppress this warning, use --no-warn-script-location.\u001b[0m\u001b[33m\n",
      "\u001b[0m\u001b[33m  WARNING: The script openai is installed in '/usr/local/python/3.12.1/bin' which is not on PATH.\n",
      "  Consider adding this directory to PATH or, if you prefer to suppress this warning, use --no-warn-script-location.\u001b[0m\u001b[33m\n",
      "\u001b[0m\u001b[33m  WARNING: The script datasets-cli is installed in '/usr/local/python/3.12.1/bin' which is not on PATH.\n",
      "  Consider adding this directory to PATH or, if you prefer to suppress this warning, use --no-warn-script-location.\u001b[0m\u001b[33m\n",
      "\u001b[0m\u001b[33m  WARNING: The script langchain-server is installed in '/usr/local/python/3.12.1/bin' which is not on PATH.\n",
      "  Consider adding this directory to PATH or, if you prefer to suppress this warning, use --no-warn-script-location.\u001b[0m\u001b[33m\n",
      "\u001b[0mNote: you may need to restart the kernel to use updated packages.\n"
     ]
    }
   ],
   "source": [
    "%pip install --force-reinstall -q -r ./requirements.txt"
   ]
  },
  {
   "cell_type": "code",
   "execution_count": 1,
   "metadata": {
    "collapsed": false,
    "jupyter": {
     "outputs_hidden": false
    },
    "tags": []
   },
   "outputs": [
    {
     "data": {
      "text/html": [
       "<script>Jupyter.notebook.kernel.restart()</script>"
      ],
      "text/plain": [
       "<IPython.core.display.HTML object>"
      ]
     },
     "execution_count": 1,
     "metadata": {},
     "output_type": "execute_result"
    }
   ],
   "source": [
    "# restart kernel\n",
    "from IPython.core.display import HTML\n",
    "HTML(\"<script>Jupyter.notebook.kernel.restart()</script>\")"
   ]
  },
  {
   "cell_type": "code",
   "execution_count": 2,
   "metadata": {
    "tags": []
   },
   "outputs": [],
   "source": [
    "import warnings\n",
    "warnings.filterwarnings('ignore')"
   ]
  },
  {
   "cell_type": "code",
   "execution_count": 3,
   "metadata": {
    "tags": []
   },
   "outputs": [],
   "source": [
    "import json\n",
    "import os\n",
    "import boto3\n",
    "from botocore.exceptions import ClientError\n",
    "import pprint\n",
    "from utility import create_bedrock_execution_role, create_oss_policy_attach_bedrock_execution_role, create_policies_in_oss, interactive_sleep\n",
    "import random\n",
    "from retrying import retry\n"
   ]
  },
  {
   "cell_type": "code",
   "execution_count": 4,
   "metadata": {},
   "outputs": [],
   "source": [
    "suffix = random.randrange(200, 900)\n",
    "\n",
    "sts_client = boto3.client('sts')\n",
    "boto3_session = boto3.session.Session()\n",
    "region_name = boto3_session.region_name\n",
    "bedrock_agent_client = boto3_session.client('bedrock-agent', region_name=region_name)\n",
    "service = 'aoss'\n",
    "s3_client = boto3.client('s3')\n",
    "account_id = sts_client.get_caller_identity()[\"Account\"]\n",
    "s3_suffix = f\"{region_name}-{account_id}\"\n",
    "bucket_name = f'bedrock-kb-{s3_suffix}' # replace it with your bucket name.\n",
    "pp = pprint.PrettyPrinter(indent=2)"
   ]
  },
  {
   "cell_type": "markdown",
   "metadata": {},
   "source": [
    "- I got some error when not reload by the button the notebook!\n",
    "- Reloading it and it works!"
   ]
  },
  {
   "cell_type": "code",
   "execution_count": 5,
   "metadata": {
    "collapsed": false,
    "jupyter": {
     "outputs_hidden": false
    },
    "tags": []
   },
   "outputs": [
    {
     "name": "stdout",
     "output_type": "stream",
     "text": [
      "Bucket bedrock-kb-us-east-1-183295442349 Exists\n"
     ]
    }
   ],
   "source": [
    "# Check if bucket exists, and if not create S3 bucket for knowledge base data source\n",
    "try:\n",
    "    s3_client.head_bucket(Bucket=bucket_name)\n",
    "    print(f'Bucket {bucket_name} Exists')\n",
    "except ClientError as e:\n",
    "    print(f'Creating bucket {bucket_name}')\n",
    "    if region_name == \"us-east-1\":\n",
    "        s3bucket = s3_client.create_bucket(\n",
    "            Bucket=bucket_name)\n",
    "    else:\n",
    "        s3bucket = s3_client.create_bucket(\n",
    "        Bucket=bucket_name,\n",
    "        CreateBucketConfiguration={ 'LocationConstraint': region_name }\n",
    "    )"
   ]
  },
  {
   "cell_type": "code",
   "execution_count": 6,
   "metadata": {},
   "outputs": [
    {
     "name": "stdout",
     "output_type": "stream",
     "text": [
      "Stored 'bucket_name' (str)\n"
     ]
    }
   ],
   "source": [
    "%store bucket_name"
   ]
  },
  {
   "cell_type": "markdown",
   "metadata": {},
   "source": [
    "## Create a vector store - OpenSearch Serverless index\n",
    "\n",
    "### Step 1 - Create OSS policies and collection\n",
    "First of all we have to create a vector store. In this section we will use *Amazon OpenSerach serverless.*\n",
    "\n",
    "Amazon OpenSearch Serverless is a serverless option in Amazon OpenSearch Service. As a developer, you can use OpenSearch Serverless to run petabyte-scale workloads without configuring, managing, and scaling OpenSearch clusters. You get the same interactive millisecond response times as OpenSearch Service with the simplicity of a serverless environment. Pay only for what you use by automatically scaling resources to provide the right amount of capacity for your application—without impacting data ingestion."
   ]
  },
  {
   "cell_type": "code",
   "execution_count": 7,
   "metadata": {
    "tags": []
   },
   "outputs": [
    {
     "name": "stdout",
     "output_type": "stream",
     "text": [
      "{\n",
      "  \"Version\": \"2012-10-17\",\n",
      "  \"Statement\": [\n",
      "    {\n",
      "      \"Effect\": \"Allow\",\n",
      "      \"Action\": [\n",
      "        \"bedrock:InvokeModel\"\n",
      "      ],\n",
      "      \"Resource\": [\n",
      "        \"arn:aws:bedrock:us-east-1::foundation-model/amazon.titan-embed-text-v1\",\n",
      "        \"arn:aws:bedrock:us-east-1::foundation-model/amazon.titan-embed-text-v2:0\"\n",
      "      ]\n",
      "    }\n",
      "  ]\n",
      "}\n",
      "Region: us-east-1, Account: 183295442349\n"
     ]
    }
   ],
   "source": [
    "import boto3\n",
    "import time\n",
    "import importlib\n",
    "import utility\n",
    "importlib.reload(utility)\n",
    "from utility import create_bedrock_execution_role, create_oss_policy_attach_bedrock_execution_role, create_policies_in_oss, interactive_sleep\n",
    "\n",
    "vector_store_name = f'bedrock-sample-rag-{suffix}'\n",
    "index_name = f\"bedrock-sample-rag-index-{suffix}\"\n",
    "aoss_client = boto3_session.client('opensearchserverless')\n",
    "bedrock_kb_execution_role = create_bedrock_execution_role(bucket_name=bucket_name)\n",
    "bedrock_kb_execution_role_arn = bedrock_kb_execution_role['Role']['Arn']"
   ]
  },
  {
   "cell_type": "markdown",
   "metadata": {},
   "source": [
    "Create an Amazon OpenSeach Serverless collection for the vector store. Note that creation of the collection can take several minutes. You can use the Amazon OpenSearch Serverless console to monitor creation progress."
   ]
  },
  {
   "cell_type": "code",
   "execution_count": 8,
   "metadata": {
    "collapsed": false,
    "jupyter": {
     "outputs_hidden": false
    },
    "tags": []
   },
   "outputs": [],
   "source": [
    "# create security, network and data access policies within OSS\n",
    "encryption_policy, network_policy, access_policy = create_policies_in_oss(vector_store_name=vector_store_name,\n",
    "                       aoss_client=aoss_client,\n",
    "                       bedrock_kb_execution_role_arn=bedrock_kb_execution_role_arn)\n",
    "collection = aoss_client.create_collection(name=vector_store_name,type='VECTORSEARCH')"
   ]
  },
  {
   "cell_type": "code",
   "execution_count": 9,
   "metadata": {
    "tags": []
   },
   "outputs": [
    {
     "name": "stdout",
     "output_type": "stream",
     "text": [
      "{ 'ResponseMetadata': { 'HTTPHeaders': { 'connection': 'keep-alive',\n",
      "                                         'content-length': '314',\n",
      "                                         'content-type': 'application/x-amz-json-1.0',\n",
      "                                         'date': 'Tue, 22 Apr 2025 00:49:05 '\n",
      "                                                 'GMT',\n",
      "                                         'x-amzn-requestid': '62b3797d-9ff5-426e-9815-d80b78b8a31c'},\n",
      "                        'HTTPStatusCode': 200,\n",
      "                        'RequestId': '62b3797d-9ff5-426e-9815-d80b78b8a31c',\n",
      "                        'RetryAttempts': 0},\n",
      "  'createCollectionDetail': { 'arn': 'arn:aws:aoss:us-east-1:183295442349:collection/d55iq19dmnz12ss5610m',\n",
      "                              'createdDate': 1745282945204,\n",
      "                              'id': 'd55iq19dmnz12ss5610m',\n",
      "                              'kmsKeyArn': 'auto',\n",
      "                              'lastModifiedDate': 1745282945204,\n",
      "                              'name': 'bedrock-sample-rag-833',\n",
      "                              'standbyReplicas': 'ENABLED',\n",
      "                              'status': 'CREATING',\n",
      "                              'type': 'VECTORSEARCH'}}\n"
     ]
    }
   ],
   "source": [
    "pp.pprint(collection)"
   ]
  },
  {
   "cell_type": "code",
   "execution_count": 10,
   "metadata": {},
   "outputs": [
    {
     "name": "stdout",
     "output_type": "stream",
     "text": [
      "Stored 'encryption_policy' (dict)\n",
      "Stored 'network_policy' (dict)\n",
      "Stored 'access_policy' (dict)\n",
      "Stored 'collection' (dict)\n"
     ]
    }
   ],
   "source": [
    "%store encryption_policy network_policy access_policy collection"
   ]
  },
  {
   "cell_type": "code",
   "execution_count": 14,
   "metadata": {
    "tags": []
   },
   "outputs": [
    {
     "name": "stdout",
     "output_type": "stream",
     "text": [
      "d55iq19dmnz12ss5610m.us-east-1.aoss.amazonaws.com\n"
     ]
    }
   ],
   "source": [
    "# Get the OpenSearch serverless collection URL\n",
    "collection_id = collection['createCollectionDetail']['id']\n",
    "host = collection_id + '.' + region_name + '.aoss.amazonaws.com'\n",
    "print(host)"
   ]
  },
  {
   "cell_type": "code",
   "execution_count": 11,
   "metadata": {
    "collapsed": false,
    "jupyter": {
     "outputs_hidden": false
    },
    "tags": []
   },
   "outputs": [
    {
     "name": "stdout",
     "output_type": "stream",
     "text": [
      "Creating collection...\n",
      "..............................\n",
      "Collection successfully created:\n",
      "[ { 'arn': 'arn:aws:aoss:us-east-1:183295442349:collection/d55iq19dmnz12ss5610m',\n",
      "    'collectionEndpoint': 'https://d55iq19dmnz12ss5610m.us-east-1.aoss.amazonaws.com',\n",
      "    'createdDate': 1745282945204,\n",
      "    'dashboardEndpoint': 'https://d55iq19dmnz12ss5610m.us-east-1.aoss.amazonaws.com/_dashboards',\n",
      "    'id': 'd55iq19dmnz12ss5610m',\n",
      "    'kmsKeyArn': 'auto',\n",
      "    'lastModifiedDate': 1745282968963,\n",
      "    'name': 'bedrock-sample-rag-833',\n",
      "    'standbyReplicas': 'ENABLED',\n",
      "    'status': 'ACTIVE',\n",
      "    'type': 'VECTORSEARCH'}]\n"
     ]
    }
   ],
   "source": [
    "# wait for collection creation\n",
    "# This can take couple of minutes to finish\n",
    "response = aoss_client.batch_get_collection(names=[vector_store_name])\n",
    "# Periodically check collection status\n",
    "while (response['collectionDetails'][0]['status']) == 'CREATING':\n",
    "    print('Creating collection...')\n",
    "    interactive_sleep(30)\n",
    "    response = aoss_client.batch_get_collection(names=[vector_store_name])\n",
    "print('\\nCollection successfully created:')\n",
    "pp.pprint(response[\"collectionDetails\"])"
   ]
  },
  {
   "cell_type": "code",
   "execution_count": 15,
   "metadata": {
    "collapsed": false,
    "jupyter": {
     "outputs_hidden": false
    },
    "tags": []
   },
   "outputs": [
    {
     "name": "stdout",
     "output_type": "stream",
     "text": [
      "Opensearch serverless arn:  arn:aws:iam::183295442349:policy/AmazonBedrockOSSPolicyForKnowledgeBase_811\n",
      "............................................................\r"
     ]
    }
   ],
   "source": [
    "# create opensearch serverless access policy and attach it to Bedrock execution role\n",
    "try:\n",
    "    create_oss_policy_attach_bedrock_execution_role(collection_id=collection_id,\n",
    "                                                    bedrock_kb_execution_role=bedrock_kb_execution_role)\n",
    "    # It can take up to a minute for data access rules to be enforced\n",
    "    interactive_sleep(60)\n",
    "except Exception as e:\n",
    "    print(\"Policy already exists\")\n",
    "    pp.pprint(e)"
   ]
  },
  {
   "cell_type": "markdown",
   "metadata": {},
   "source": [
    "## Step 2 - Create vector index"
   ]
  },
  {
   "cell_type": "code",
   "execution_count": 16,
   "metadata": {
    "tags": []
   },
   "outputs": [],
   "source": [
    "# Create the vector index in Opensearch serverless, with the knn_vector field index mapping, specifying the dimension size, name and engine.\n",
    "from opensearchpy import OpenSearch, RequestsHttpConnection, AWSV4SignerAuth, RequestError\n",
    "credentials = boto3.Session().get_credentials()\n",
    "awsauth = auth = AWSV4SignerAuth(credentials, region_name, service)\n",
    "\n",
    "index_name = f\"bedrock-sample-index-{suffix}\"\n",
    "body_json = {\n",
    "   \"settings\": {\n",
    "      \"index.knn\": \"true\",\n",
    "       \"number_of_shards\": 1,\n",
    "       \"knn.algo_param.ef_search\": 512,\n",
    "       \"number_of_replicas\": 0,\n",
    "   },\n",
    "   \"mappings\": {\n",
    "      \"properties\": {\n",
    "         \"vector\": {\n",
    "            \"type\": \"knn_vector\",\n",
    "            \"dimension\": 1536,\n",
    "             \"method\": {\n",
    "                 \"name\": \"hnsw\",\n",
    "                 \"engine\": \"faiss\",\n",
    "                 \"space_type\": \"l2\"\n",
    "             },\n",
    "         },\n",
    "         \"text\": {\n",
    "            \"type\": \"text\"\n",
    "         },\n",
    "         \"text-metadata\": {\n",
    "            \"type\": \"text\"         }\n",
    "      }\n",
    "   }\n",
    "}\n",
    "\n",
    "# Build the OpenSearch client\n",
    "oss_client = OpenSearch(\n",
    "    hosts=[{'host': host, 'port': 443}],\n",
    "    http_auth=awsauth,\n",
    "    use_ssl=True,\n",
    "    verify_certs=True,\n",
    "    connection_class=RequestsHttpConnection,\n",
    "    timeout=300\n",
    ")\n"
   ]
  },
  {
   "cell_type": "code",
   "execution_count": 17,
   "metadata": {
    "collapsed": false,
    "jupyter": {
     "outputs_hidden": false
    },
    "pycharm": {
     "is_executing": true
    },
    "tags": []
   },
   "outputs": [
    {
     "name": "stdout",
     "output_type": "stream",
     "text": [
      "\n",
      "Creating index:\n",
      "{ 'acknowledged': True,\n",
      "  'index': 'bedrock-sample-index-833',\n",
      "  'shards_acknowledged': True}\n",
      "............................................................\r"
     ]
    }
   ],
   "source": [
    "# Create index\n",
    "try:\n",
    "    response = oss_client.indices.create(index=index_name, body=json.dumps(body_json))\n",
    "    print('\\nCreating index:')\n",
    "    pp.pprint(response)\n",
    "\n",
    "    # index creation can take up to a minute\n",
    "    interactive_sleep(60)\n",
    "except RequestError as e:\n",
    "    # you can delete the index if its already exists\n",
    "    # oss_client.indices.delete(index=index_name)\n",
    "    print(f'Error while trying to create the index, with error {e.error}\\nyou may unmark the delete above to delete, and recreate the index')\n",
    "    "
   ]
  },
  {
   "cell_type": "markdown",
   "metadata": {},
   "source": [
    "## Download data to ingest into our knowledge base"
   ]
  },
  {
   "cell_type": "code",
   "execution_count": 20,
   "metadata": {
    "tags": []
   },
   "outputs": [],
   "source": [
    "# Download and prepare dataset\n",
    "!mkdir -p ./data\n",
    "\n",
    "from urllib.request import urlretrieve\n",
    "urls = [\n",
    "    'https://s2.q4cdn.com/299287126/files/doc_financials/2023/ar/2022-Shareholder-Letter.pdf',\n",
    "    'https://s2.q4cdn.com/299287126/files/doc_financials/2022/ar/2021-Shareholder-Letter.pdf',\n",
    "    'https://s2.q4cdn.com/299287126/files/doc_financials/2021/ar/Amazon-2020-Shareholder-Letter-and-1997-Shareholder-Letter.pdf',\n",
    "    'https://s2.q4cdn.com/299287126/files/doc_financials/2020/ar/2019-Shareholder-Letter.pdf'\n",
    "]\n",
    "\n",
    "filenames = [\n",
    "    'AMZN-2022-Shareholder-Letter.pdf',\n",
    "    'AMZN-2021-Shareholder-Letter.pdf',\n",
    "    'AMZN-2020-Shareholder-Letter.pdf',\n",
    "    'AMZN-2019-Shareholder-Letter.pdf'\n",
    "]\n",
    "\n",
    "data_root = \"./data/\"\n",
    "\n",
    "for idx, url in enumerate(urls):\n",
    "    file_path = data_root + filenames[idx]\n",
    "    urlretrieve(url, file_path)\n"
   ]
  },
  {
   "cell_type": "markdown",
   "metadata": {},
   "source": [
    "#### Upload data to S3 Bucket data source"
   ]
  },
  {
   "cell_type": "code",
   "execution_count": 21,
   "metadata": {
    "tags": []
   },
   "outputs": [],
   "source": [
    "# Upload data to s3 to the bucket that was configured as a data source to the knowledge base\n",
    "s3_client = boto3.client(\"s3\")\n",
    "def uploadDirectory(path,bucket_name):\n",
    "        for root,dirs,files in os.walk(path):\n",
    "            for file in files:\n",
    "                s3_client.upload_file(os.path.join(root,file),bucket_name,file)\n",
    "\n",
    "uploadDirectory(data_root, bucket_name)"
   ]
  },
  {
   "cell_type": "markdown",
   "metadata": {},
   "source": [
    "## Create Knowledge Base\n",
    "Steps:\n",
    "- initialize Open search serverless configuration which will include collection ARN, index name, vector field, text field and metadata field.\n",
    "- initialize chunking strategy, based on which KB will split the documents into pieces of size equal to the chunk size mentioned in the `chunkingStrategyConfiguration`.\n",
    "- initialize the s3 configuration, which will be used to create the data source object later.\n",
    "- initialize the Titan embeddings model ARN, as this will be used to create the embeddings for each of the text chunks."
   ]
  },
  {
   "cell_type": "code",
   "execution_count": 18,
   "metadata": {
    "tags": []
   },
   "outputs": [],
   "source": [
    "opensearchServerlessConfiguration = {\n",
    "            \"collectionArn\": collection[\"createCollectionDetail\"]['arn'],\n",
    "            \"vectorIndexName\": index_name,\n",
    "            \"fieldMapping\": {\n",
    "                \"vectorField\": \"vector\",\n",
    "                \"textField\": \"text\",\n",
    "                \"metadataField\": \"text-metadata\"\n",
    "            }\n",
    "        }\n",
    "\n",
    "# Ingest strategy - How to ingest data from the data source\n",
    "chunkingStrategyConfiguration = {\n",
    "    \"chunkingStrategy\": \"FIXED_SIZE\",\n",
    "    \"fixedSizeChunkingConfiguration\": {\n",
    "        \"maxTokens\": 512,\n",
    "        \"overlapPercentage\": 20\n",
    "    }\n",
    "}\n",
    "\n",
    "# The data source to ingest documents from, into the OpenSearch serverless knowledge base index\n",
    "s3Configuration = {\n",
    "    \"bucketArn\": f\"arn:aws:s3:::{bucket_name}\",\n",
    "    # \"inclusionPrefixes\":[\"*.*\"] # you can use this if you want to create a KB using data within s3 prefixes.\n",
    "}\n",
    "\n",
    "# The embedding model used by Bedrock to embed ingested documents, and realtime prompts\n",
    "embeddingModelArn = f\"arn:aws:bedrock:{region_name}::foundation-model/amazon.titan-embed-text-v1\"\n",
    "\n",
    "name = f\"bedrock-sample-knowledge-base-{suffix}\"\n",
    "description = \"Amazon shareholder letter knowledge base.\"\n",
    "roleArn = bedrock_kb_execution_role_arn\n"
   ]
  },
  {
   "cell_type": "markdown",
   "metadata": {},
   "source": [
    "Provide the above configurations as input to the `create_knowledge_base` method, which will create the Knowledge base."
   ]
  },
  {
   "cell_type": "code",
   "execution_count": 19,
   "metadata": {
    "tags": []
   },
   "outputs": [],
   "source": [
    "# Create a KnowledgeBase\n",
    "from retrying import retry\n",
    "\n",
    "@retry(wait_random_min=1000, wait_random_max=2000,stop_max_attempt_number=7)\n",
    "def create_knowledge_base_func():\n",
    "    create_kb_response = bedrock_agent_client.create_knowledge_base(\n",
    "        name = name,\n",
    "        description = description,\n",
    "        roleArn = roleArn,\n",
    "        knowledgeBaseConfiguration = {\n",
    "            \"type\": \"VECTOR\",\n",
    "            \"vectorKnowledgeBaseConfiguration\": {\n",
    "                \"embeddingModelArn\": embeddingModelArn\n",
    "            }\n",
    "        },\n",
    "        storageConfiguration = {\n",
    "            \"type\": \"OPENSEARCH_SERVERLESS\",\n",
    "            \"opensearchServerlessConfiguration\":opensearchServerlessConfiguration\n",
    "        }\n",
    "    )\n",
    "    return create_kb_response[\"knowledgeBase\"]"
   ]
  },
  {
   "cell_type": "code",
   "execution_count": 20,
   "metadata": {
    "collapsed": false,
    "jupyter": {
     "outputs_hidden": false
    },
    "tags": []
   },
   "outputs": [],
   "source": [
    "try:\n",
    "    kb = create_knowledge_base_func()\n",
    "except Exception as err:\n",
    "    print(f\"{err=}, {type(err)=}\")"
   ]
  },
  {
   "cell_type": "code",
   "execution_count": 21,
   "metadata": {
    "tags": []
   },
   "outputs": [
    {
     "name": "stdout",
     "output_type": "stream",
     "text": [
      "{ 'createdAt': datetime.datetime(2025, 4, 22, 0, 55, 3, 851180, tzinfo=tzlocal()),\n",
      "  'description': 'Amazon shareholder letter knowledge base.',\n",
      "  'knowledgeBaseArn': 'arn:aws:bedrock:us-east-1:183295442349:knowledge-base/FPBIAADRAQ',\n",
      "  'knowledgeBaseConfiguration': { 'type': 'VECTOR',\n",
      "                                  'vectorKnowledgeBaseConfiguration': { 'embeddingModelArn': 'arn:aws:bedrock:us-east-1::foundation-model/amazon.titan-embed-text-v1'}},\n",
      "  'knowledgeBaseId': 'FPBIAADRAQ',\n",
      "  'name': 'bedrock-sample-knowledge-base-833',\n",
      "  'roleArn': 'arn:aws:iam::183295442349:role/AmazonBedrockExecutionRoleForKnowledgeBase_811',\n",
      "  'status': 'CREATING',\n",
      "  'storageConfiguration': { 'opensearchServerlessConfiguration': { 'collectionArn': 'arn:aws:aoss:us-east-1:183295442349:collection/d55iq19dmnz12ss5610m',\n",
      "                                                                   'fieldMapping': { 'metadataField': 'text-metadata',\n",
      "                                                                                     'textField': 'text',\n",
      "                                                                                     'vectorField': 'vector'},\n",
      "                                                                   'vectorIndexName': 'bedrock-sample-index-833'},\n",
      "                            'type': 'OPENSEARCH_SERVERLESS'},\n",
      "  'updatedAt': datetime.datetime(2025, 4, 22, 0, 55, 3, 851180, tzinfo=tzlocal())}\n"
     ]
    }
   ],
   "source": [
    "pp.pprint(kb)"
   ]
  },
  {
   "cell_type": "code",
   "execution_count": 22,
   "metadata": {
    "tags": []
   },
   "outputs": [],
   "source": [
    "# Get KnowledgeBase \n",
    "get_kb_response = bedrock_agent_client.get_knowledge_base(knowledgeBaseId = kb['knowledgeBaseId'])"
   ]
  },
  {
   "cell_type": "markdown",
   "metadata": {},
   "source": [
    "Next we need to create a data source, which will be associated with the knowledge base created above. Once the data source is ready, we can then start to ingest the documents."
   ]
  },
  {
   "cell_type": "code",
   "execution_count": 23,
   "metadata": {
    "tags": []
   },
   "outputs": [
    {
     "name": "stdout",
     "output_type": "stream",
     "text": [
      "{ 'createdAt': datetime.datetime(2025, 4, 22, 0, 55, 29, 83851, tzinfo=tzlocal()),\n",
      "  'dataDeletionPolicy': 'DELETE',\n",
      "  'dataSourceConfiguration': { 's3Configuration': { 'bucketArn': 'arn:aws:s3:::bedrock-kb-us-east-1-183295442349'},\n",
      "                               'type': 'S3'},\n",
      "  'dataSourceId': 'JSBM6RH9YL',\n",
      "  'description': 'Amazon shareholder letter knowledge base.',\n",
      "  'knowledgeBaseId': 'FPBIAADRAQ',\n",
      "  'name': 'bedrock-sample-knowledge-base-833',\n",
      "  'status': 'AVAILABLE',\n",
      "  'updatedAt': datetime.datetime(2025, 4, 22, 0, 55, 29, 83851, tzinfo=tzlocal()),\n",
      "  'vectorIngestionConfiguration': { 'chunkingConfiguration': { 'chunkingStrategy': 'FIXED_SIZE',\n",
      "                                                               'fixedSizeChunkingConfiguration': { 'maxTokens': 512,\n",
      "                                                                                                   'overlapPercentage': 20}}}}\n"
     ]
    }
   ],
   "source": [
    "# Create a DataSource in KnowledgeBase \n",
    "create_ds_response = bedrock_agent_client.create_data_source(\n",
    "    name = name,\n",
    "    description = description,\n",
    "    knowledgeBaseId = kb['knowledgeBaseId'],\n",
    "    dataSourceConfiguration = {\n",
    "        \"type\": \"S3\",\n",
    "        \"s3Configuration\":s3Configuration\n",
    "    },\n",
    "    vectorIngestionConfiguration = {\n",
    "        \"chunkingConfiguration\": chunkingStrategyConfiguration\n",
    "    }\n",
    ")\n",
    "ds = create_ds_response[\"dataSource\"]\n",
    "pp.pprint(ds)"
   ]
  },
  {
   "cell_type": "code",
   "execution_count": 24,
   "metadata": {
    "tags": []
   },
   "outputs": [
    {
     "data": {
      "text/plain": [
       "{'ResponseMetadata': {'RequestId': '7a06a0ab-b9f3-427d-83c9-d407204fbe1f',\n",
       "  'HTTPStatusCode': 200,\n",
       "  'HTTPHeaders': {'date': 'Tue, 22 Apr 2025 00:55:34 GMT',\n",
       "   'content-type': 'application/json',\n",
       "   'content-length': '603',\n",
       "   'connection': 'keep-alive',\n",
       "   'x-amzn-requestid': '7a06a0ab-b9f3-427d-83c9-d407204fbe1f',\n",
       "   'x-amz-apigw-id': 'JZlY_H1ZoAMEnhw=',\n",
       "   'x-amzn-trace-id': 'Root=1-6806e905-50c05628768c03752fb08c10'},\n",
       "  'RetryAttempts': 0},\n",
       " 'dataSource': {'createdAt': datetime.datetime(2025, 4, 22, 0, 55, 29, 83851, tzinfo=tzlocal()),\n",
       "  'dataDeletionPolicy': 'DELETE',\n",
       "  'dataSourceConfiguration': {'s3Configuration': {'bucketArn': 'arn:aws:s3:::bedrock-kb-us-east-1-183295442349'},\n",
       "   'type': 'S3'},\n",
       "  'dataSourceId': 'JSBM6RH9YL',\n",
       "  'description': 'Amazon shareholder letter knowledge base.',\n",
       "  'knowledgeBaseId': 'FPBIAADRAQ',\n",
       "  'name': 'bedrock-sample-knowledge-base-833',\n",
       "  'status': 'AVAILABLE',\n",
       "  'updatedAt': datetime.datetime(2025, 4, 22, 0, 55, 29, 83851, tzinfo=tzlocal()),\n",
       "  'vectorIngestionConfiguration': {'chunkingConfiguration': {'chunkingStrategy': 'FIXED_SIZE',\n",
       "    'fixedSizeChunkingConfiguration': {'maxTokens': 512,\n",
       "     'overlapPercentage': 20}}}}}"
      ]
     },
     "execution_count": 24,
     "metadata": {},
     "output_type": "execute_result"
    }
   ],
   "source": [
    "# Get DataSource \n",
    "bedrock_agent_client.get_data_source(knowledgeBaseId = kb['knowledgeBaseId'], dataSourceId = ds[\"dataSourceId\"])"
   ]
  },
  {
   "cell_type": "markdown",
   "metadata": {},
   "source": [
    "### Start ingestion job\n",
    "Once the KB and data source is created, we can start the ingestion job.\n",
    "During the ingestion job, KB will fetch the documents in the data source, pre-process it to extract text, chunk it based on the chunking size provided, create embeddings of each chunk and then write it to the vector database, in this case OSS."
   ]
  },
  {
   "cell_type": "markdown",
   "metadata": {},
   "source": [
    "- I don't know why but if you failed run the below cell with error some kinda lack permission you could run this bash snippet:\n",
    "```bash\n",
    "aws iam put-role-policy --role-name AmazonBedrockExecutionRoleForKnowledgeBase_632 --policy-name BedrockInvokeModelPolicy --policy-document file://kb-policy.json\n",
    "# Validate the policy\n",
    "aws iam get-role-policy --role-name AmazonBedrockExecutionRoleForKnowledgeBase_632 --policy-name BedrockInvokeModelPolicy\n",
    "```\n",
    "But even after that, you need to reload the cell which is troublesome, so I mod the below cell to use boto to attach the policy to the role in the notebook."
   ]
  },
  {
   "cell_type": "code",
   "execution_count": 25,
   "metadata": {
    "tags": []
   },
   "outputs": [
    {
     "name": "stdout",
     "output_type": "stream",
     "text": [
      "Policy successfully attached to the role.\n",
      "..............................\r"
     ]
    }
   ],
   "source": [
    "# Attach the necessary policy to the execution role\n",
    "import json\n",
    "\n",
    "policy_document = {\n",
    "\t\"Version\": \"2012-10-17\",\n",
    "\t\"Statement\": [\n",
    "\t\t{\n",
    "\t\t\t\"Effect\": \"Allow\",\n",
    "\t\t\t\"Action\": \"bedrock:InvokeModel\",\n",
    "\t\t\t\"Resource\": embeddingModelArn\n",
    "\t\t}\n",
    "\t]\n",
    "}\n",
    "\n",
    "try:\n",
    "\tiam_client = boto3.client('iam')\n",
    "\tiam_client.put_role_policy(\n",
    "\t\tRoleName=bedrock_kb_execution_role['Role']['RoleName'],\n",
    "\t\tPolicyName=\"BedrockInvokeModelPolicy\",\n",
    "\t\tPolicyDocument=json.dumps(policy_document)\n",
    "\t)\n",
    "\tprint(\"Policy successfully attached to the role.\")\n",
    "except Exception as e:\n",
    "\tprint(f\"Error attaching policy: {e}\")\n",
    "\n",
    "# Start an ingestion job\n",
    "interactive_sleep(30)\n",
    "start_job_response = bedrock_agent_client.start_ingestion_job(knowledgeBaseId=kb['knowledgeBaseId'], dataSourceId=ds[\"dataSourceId\"])"
   ]
  },
  {
   "cell_type": "code",
   "execution_count": 26,
   "metadata": {
    "tags": []
   },
   "outputs": [
    {
     "name": "stdout",
     "output_type": "stream",
     "text": [
      "{ 'dataSourceId': 'JSBM6RH9YL',\n",
      "  'ingestionJobId': 'KEKKZIHAMF',\n",
      "  'knowledgeBaseId': 'FPBIAADRAQ',\n",
      "  'startedAt': datetime.datetime(2025, 4, 22, 0, 56, 24, 123386, tzinfo=tzlocal()),\n",
      "  'statistics': { 'numberOfDocumentsDeleted': 0,\n",
      "                  'numberOfDocumentsFailed': 0,\n",
      "                  'numberOfDocumentsScanned': 0,\n",
      "                  'numberOfMetadataDocumentsModified': 0,\n",
      "                  'numberOfMetadataDocumentsScanned': 0,\n",
      "                  'numberOfModifiedDocumentsIndexed': 0,\n",
      "                  'numberOfNewDocumentsIndexed': 0},\n",
      "  'status': 'STARTING',\n",
      "  'updatedAt': datetime.datetime(2025, 4, 22, 0, 56, 24, 123386, tzinfo=tzlocal())}\n"
     ]
    }
   ],
   "source": [
    "job = start_job_response[\"ingestionJob\"]\n",
    "pp.pprint(job)"
   ]
  },
  {
   "cell_type": "code",
   "execution_count": 27,
   "metadata": {
    "tags": []
   },
   "outputs": [
    {
     "name": "stdout",
     "output_type": "stream",
     "text": [
      "{ 'dataSourceId': 'JSBM6RH9YL',\n",
      "  'ingestionJobId': 'KEKKZIHAMF',\n",
      "  'knowledgeBaseId': 'FPBIAADRAQ',\n",
      "  'startedAt': datetime.datetime(2025, 4, 22, 0, 56, 24, 123386, tzinfo=tzlocal()),\n",
      "  'statistics': { 'numberOfDocumentsDeleted': 0,\n",
      "                  'numberOfDocumentsFailed': 0,\n",
      "                  'numberOfDocumentsScanned': 4,\n",
      "                  'numberOfMetadataDocumentsModified': 0,\n",
      "                  'numberOfMetadataDocumentsScanned': 0,\n",
      "                  'numberOfModifiedDocumentsIndexed': 0,\n",
      "                  'numberOfNewDocumentsIndexed': 4},\n",
      "  'status': 'COMPLETE',\n",
      "  'updatedAt': datetime.datetime(2025, 4, 22, 0, 56, 35, 632190, tzinfo=tzlocal())}\n"
     ]
    }
   ],
   "source": [
    "# Get job \n",
    "while(job['status']!='COMPLETE' ):\n",
    "    get_job_response = bedrock_agent_client.get_ingestion_job(\n",
    "      knowledgeBaseId = kb['knowledgeBaseId'],\n",
    "        dataSourceId = ds[\"dataSourceId\"],\n",
    "        ingestionJobId = job[\"ingestionJobId\"]\n",
    "  )\n",
    "    job = get_job_response[\"ingestionJob\"]\n",
    "    \n",
    "    interactive_sleep(30)\n",
    "\n",
    "pp.pprint(job)"
   ]
  },
  {
   "cell_type": "code",
   "execution_count": 28,
   "metadata": {
    "tags": []
   },
   "outputs": [
    {
     "name": "stdout",
     "output_type": "stream",
     "text": [
      "'FPBIAADRAQ'\n"
     ]
    }
   ],
   "source": [
    "# Print the knowledge base Id in bedrock, that corresponds to the Opensearch index in the collection we created before, we will use it for the invocation later\n",
    "kb_id = kb[\"knowledgeBaseId\"]\n",
    "pp.pprint(kb_id)"
   ]
  },
  {
   "cell_type": "code",
   "execution_count": 29,
   "metadata": {
    "tags": []
   },
   "outputs": [
    {
     "name": "stdout",
     "output_type": "stream",
     "text": [
      "Stored 'kb_id' (str)\n"
     ]
    }
   ],
   "source": [
    "# keep the kb_id for invocation later in the invoke request\n",
    "%store kb_id"
   ]
  },
  {
   "cell_type": "markdown",
   "metadata": {},
   "source": [
    "## Test the knowledge base\n",
    "### Note: If you plan to run any following notebooks, you can skip this section\n",
    "### Using RetrieveAndGenerate API\n",
    "Behind the scenes, RetrieveAndGenerate API converts queries into embeddings, searches the knowledge base, and then augments the foundation model prompt with the search results as context information and returns the FM-generated response to the question. For multi-turn conversations, Knowledge Bases manage short-term memory of the conversation to provide more contextual results.\n",
    "\n",
    "The output of the RetrieveAndGenerate API includes the generated response, source attribution as well as the retrieved text chunks."
   ]
  },
  {
   "cell_type": "code",
   "execution_count": 30,
   "metadata": {
    "collapsed": false,
    "jupyter": {
     "outputs_hidden": false
    },
    "tags": []
   },
   "outputs": [],
   "source": [
    "# try out KB using RetrieveAndGenerate API\n",
    "bedrock_agent_runtime_client = boto3.client(\"bedrock-agent-runtime\", region_name=region_name)\n",
    "# Lets see how different Anthropic Claude 3 models responds to the input text we provide\n",
    "claude_model_ids = [ [\"Claude 3.7 Sonnet\", \"arn:aws:bedrock:us-east-1:183295442349:inference-profile/us.anthropic.claude-3-7-sonnet-20250219-v1:0\"], [\"Claude 3.5 Haiku\", \"arn:aws:bedrock:us-east-1:183295442349:inference-profile/us.anthropic.claude-3-5-haiku-20241022-v1:0\"]]"
   ]
  },
  {
   "cell_type": "code",
   "execution_count": 31,
   "metadata": {
    "collapsed": false,
    "jupyter": {
     "outputs_hidden": false
    },
    "tags": []
   },
   "outputs": [],
   "source": [
    "def ask_bedrock_llm_with_knowledge_base(query: str, model_arn: str, kb_id: str) -> str:\n",
    "    response = bedrock_agent_runtime_client.retrieve_and_generate(\n",
    "        input={\n",
    "            'text': query\n",
    "        },\n",
    "        retrieveAndGenerateConfiguration={\n",
    "            'type': 'KNOWLEDGE_BASE',\n",
    "            'knowledgeBaseConfiguration': {\n",
    "                'knowledgeBaseId': kb_id,\n",
    "                'modelArn': model_arn\n",
    "            }\n",
    "        },\n",
    "    )\n",
    "\n",
    "    return response"
   ]
  },
  {
   "cell_type": "code",
   "execution_count": 32,
   "metadata": {
    "tags": []
   },
   "outputs": [
    {
     "name": "stdout",
     "output_type": "stream",
     "text": [
      "---------- Generated using Claude 3.7 Sonnet:\n",
      "('During the COVID-19 pandemic, Amazon faced several significant challenges:\\n'\n",
      " '\\n'\n",
      " '1. Unprecedented demand surge: Amazon experienced extraordinary growth, '\n",
      " 'achieving what would normally be three years of forecasted growth in about '\n",
      " '15 months. Consumer revenue grew 39% year-over-year in 2020 and continued '\n",
      " 'with 43% growth in Q1 2021.\\n'\n",
      " '\\n'\n",
      " '2. Logistics and capacity issues: Amazon had to double its fulfillment '\n",
      " 'network in just 24 months to meet customer demand after having spent 25 '\n",
      " 'years building the original network.\\n'\n",
      " '\\n'\n",
      " '3. Labor market constraints: The tightening labor market made it difficult '\n",
      " 'to receive inventory from vendors and sellers and to place that inventory '\n",
      " 'optimally close to customers.\\n'\n",
      " '\\n'\n",
      " '4. Supply chain disruptions: Transportation became scarcer and more '\n",
      " 'expensive, with disruptions to ocean, air, and trucking capacity, leading to '\n",
      " 'increased costs.\\n'\n",
      " '\\n'\n",
      " '5. Employee safety concerns: Amazon had to implement over 150 significant '\n",
      " 'process changes in operations and stores to protect employees, including '\n",
      " 'distributing face masks, conducting temperature checks, sanitizing '\n",
      " 'facilities, and implementing social distancing measures. Amazon also faced '\n",
      " 'challenges in combating exploitation of the crisis by bad actors. The '\n",
      " 'company removed over half a million offers from their stores due to '\n",
      " 'COVID-based price gouging and suspended more than 6,000 selling accounts '\n",
      " 'globally for violating fair-pricing policies. They established special '\n",
      " 'communication channels with state attorneys general to address consumer '\n",
      " 'complaints about price gouging.\\n'\n",
      " '\\n'\n",
      " 'Additionally, Amazon Web Services (AWS) had to rapidly scale to support '\n",
      " 'organizations transitioning to remote operations, including healthcare '\n",
      " 'systems, academic institutions, and governments that suddenly needed '\n",
      " 'expanded cloud computing capabilities to maintain operations during '\n",
      " 'lockdowns.')\n",
      "---------- The citations for the response generated by Claude 3.7 Sonnet:\n",
      "[ 'Many concluded that they didn’t want to continue managing their technology '\n",
      "  'infrastructure themselves, and made the decision to accelerate their move '\n",
      "  'to the cloud. This shift by so many companies (along with the economy '\n",
      "  'recovering) helped re-accelerate AWS’s revenue growth to 37% YoY in '\n",
      "  '2021.     Conversely, our Consumer revenue grew dramatically in 2020. In '\n",
      "  '2020, Amazon’s North America and International Consumer revenue grew 39% '\n",
      "  'YoY on the very large 2019 revenue base of $245 billion; and, this '\n",
      "  'extraordinary growth extended into 2021 with revenue increasing 43% YoY in '\n",
      "  'Q1 2021. These are astounding numbers. We realized the equivalent of three '\n",
      "  'years’ forecasted growth in about 15 months.     As the world opened up '\n",
      "  'again starting in late Q2 2021, and more people ventured out to eat, shop, '\n",
      "  'and travel, consumer spending returned to being spread over many more '\n",
      "  'entities. We weren’t sure what to expect in 2021, but the fact that we '\n",
      "  'continued to grow at double digit rates (with a two-year Consumer '\n",
      "  'compounded annual growth rate of 29%) was encouraging as customers '\n",
      "  'appreciated the role Amazon played for them during the pandemic, and '\n",
      "  'started using Amazon for a larger amount of their household purchases.     '\n",
      "  'This growth also created short-term logistics and cost challenges. We spent '\n",
      "  'Amazon’s first 25 years building a very large fulfillment network, and then '\n",
      "  'had to double it in the last 24 months to meet customer demand. As we were '\n",
      "  'bringing this new capacity online, the labor market tightened considerably, '\n",
      "  'making it challenging both to receive all of the inventory our vendors and '\n",
      "  'sellers wanted to send us and to place that inventory as close to customers '\n",
      "  'as we typically do. Combined with ocean, air, and trucking capacity '\n",
      "  'becoming scarcer and more expensive, this created extra transportation and '\n",
      "  'productivity costs. Supply chains were disrupted in ways none of us had '\n",
      "  'seen previously. We hoped that the major impact from COVID-19 would recede '\n",
      "  'as 2021 drew to a close, but then omicron reared its head in December, '\n",
      "  'which had worldwide ramifications, including impacting people’s ability to '\n",
      "  'work. And then in late February, with Russia’s invasion of Ukraine, fuel '\n",
      "  'costs and inflation became bigger issues with which to contend.     So, '\n",
      "  '2021 was a crazy and unpredictable year, continuing a trend from 2020. But, '\n",
      "  'I’m proud of the incredible commitment and effort from our employees all '\n",
      "  'over the world.',\n",
      "  'And then in late February, with Russia’s invasion of Ukraine, fuel costs '\n",
      "  'and inflation became bigger issues with which to contend.     So, 2021 was '\n",
      "  'a crazy and unpredictable year, continuing a trend from 2020. But, I’m '\n",
      "  'proud of the incredible commitment and effort from our employees all over '\n",
      "  'the world. I’m not sure any of us would have gottenthrough the pandemic the '\n",
      "  'same way without the dedication and extraordinary efforts shown by our '\n",
      "  'teams during this period, and I’m eternally grateful.     It’s not normal '\n",
      "  'for a company of any size to be able to respond to something as '\n",
      "  'discontinuous and unpredictable as this pandemic turned out to be. What is '\n",
      "  'it about Amazon that made it possible for us to do so? It’s because we '\n",
      "  'weren’t starting from a standing start. We had been iterating on and '\n",
      "  'remaking our fulfillment capabilities for nearly two decades. In every '\n",
      "  'business we pursue, we’re constantly experimenting and inventing. We’re '\n",
      "  'divinely discontented with customer experiences, whether they’re our own or '\n",
      "  'not. We believe these customer experiences can always be better, and we '\n",
      "  'strive to make customers’ lives better and easier every day. The beauty of '\n",
      "  'this mission is that you never run out of runway; customers always want '\n",
      "  'better, and our job is both to listen to their feedback and to imagine what '\n",
      "  'else is possible and invent on their behalf.     People often assume that '\n",
      "  'the game-changing inventions they admire just pop out of somebody’s head, a '\n",
      "  'light bulb goes off, a team executes to that idea, and presto—you have a '\n",
      "  'new invention that’s a breakaway success for a long time. That’s rarely, if '\n",
      "  'ever, how it happens. One of the lesser known facts about innovative '\n",
      "  'companies like Amazon is that they are relentlessly debating, re-defining, '\n",
      "  'tinkering, iterating, and experimenting to take the seed of a big idea and '\n",
      "  'make it into something that resonates with customers and meaningfully '\n",
      "  'changes their customer experience over a long period of time.     Let me '\n",
      "  'give you some Amazon examples.     Our Fulfillment Network: Going back to '\n",
      "  'the pandemic, there’s no way we could have started working on our '\n",
      "  'fulfillment network in March 2020 and satisfied anything close to what our '\n",
      "  'customers needed. We’d been innovating in our fulfillment network for 20 '\n",
      "  'years, constantly trying to shorten the time to get items to customers. In '\n",
      "  'the early 2000s, it took us an average of 18 hours to get an item through '\n",
      "  'our fulfillment centers and on the right truck for shipment.',\n",
      "  'To our shareowners:     One thing we’ve learned from the COVID-19 crisis is '\n",
      "  'how important Amazon has become to our customers. We want you to know we '\n",
      "  'take this responsibility seriously, and we’re proud of the work our teams '\n",
      "  'are doing to help customers through this difficult time.     Amazonians are '\n",
      "  'working around the clock to get necessary supplies delivered directly to '\n",
      "  'the doorsteps of people who need them. The demand we are seeing for '\n",
      "  'essential products has been and remains high. But unlike a predictable '\n",
      "  'holiday surge, this spike occurred with little warning, creating major '\n",
      "  'challenges for our suppliers and delivery network. We quickly prioritized '\n",
      "  'the stocking and delivery of essential household staples, medical supplies, '\n",
      "  'and other critical products.     Our Whole Foods Market stores have '\n",
      "  'remained open, providing fresh food and other vital goods for customers. We '\n",
      "  'are taking steps to help those most vulnerable to the virus, setting aside '\n",
      "  'the first hour of shopping at Whole Foods each day for seniors. We have '\n",
      "  'temporarily closed Amazon Books, Amazon 4-star, and Amazon Pop Up stores '\n",
      "  'because they don’t sell essential products, and we offered associates from '\n",
      "  'those closed stores the opportunity to continue working in other parts of '\n",
      "  'Amazon.     Crucially, while providing these essential services, we are '\n",
      "  'focused on the safety of our employees and contractors around the world—we '\n",
      "  'are deeply grateful for their heroic work and are committed to their health '\n",
      "  'and well-being. Consulting closely with medical experts and health '\n",
      "  'authorities, we’ve made over 150 significant process changes in our '\n",
      "  'operations network and Whole Foods Market stores to help teams stay '\n",
      "  'healthy, and we conduct daily audits of the measures we’ve put into place. '\n",
      "  'We’ve distributed face masks and implemented temperature checks at sites '\n",
      "  'around the world to help protect employees and support staff. We regularly '\n",
      "  'sanitize door handles, stairway handrails, lockers, elevator buttons, and '\n",
      "  'touch screens, and disinfectant wipes and hand sanitizer are standard '\n",
      "  'across our network.     We’ve also introduced extensive social distancing '\n",
      "  'measures to help protect our associates. We have eliminated stand-up '\n",
      "  'meetings during shifts, moved information sharing to bulletin boards, '\n",
      "  'staggered break times, and spread out chairs in breakrooms. While training '\n",
      "  'new hires is challenging with new distancing requirements, we continue to '\n",
      "  'ensure that every new employee gets six hours of safety training. We’ve '\n",
      "  'shifted training protocols so we don’t have employees gathering in one '\n",
      "  'spot, and we’ve adjusted our hiring processes to allow for social '\n",
      "  'distancing.     A next step in protecting our employees might be regular '\n",
      "  'testing of all Amazonians, including those showing no symptoms.',\n",
      "  'In March, we opened 100,000 new positions across our fulfillment and '\n",
      "  'delivery network. Earlier this week, after successfully filling those '\n",
      "  'roles, we announced we were creating another 75,000 jobs to respond to '\n",
      "  'customer demand. These new hires are helping customers who depend on us to '\n",
      "  'meet their critical needs. We know that many people around the world have '\n",
      "  'suffered financially as jobs are lost or furloughed. We are happy to have '\n",
      "  'them on our teams until things return to normal and either their former '\n",
      "  'employer can bring them back or new jobs become available. We’ve welcomed '\n",
      "  'Joe Duffy, who joined after losing his job as a mechanic at Newark airport '\n",
      "  'and learned about an opening from a friend who is an Amazon operations '\n",
      "  'analyst. Dallas preschool teacher Darby Griffin joined after her school '\n",
      "  'closed on March 9th and now helps manage new inventory. We’re happy to have '\n",
      "  'Darby with us until she can return to the classroom.     Amazon is acting '\n",
      "  'aggressively to protect our customers from bad actors looking to exploit '\n",
      "  'the crisis. We’ve removed over half a million offers from our stores due to '\n",
      "  'COVID-based price gouging, and we’ve suspended more than 6,000 selling '\n",
      "  'accounts globally for violating our fair-pricing policies. Amazon turned '\n",
      "  'over information about sellers we suspect engaged in price gouging of '\n",
      "  'products related to COVID-19 to 42 state attorneys general offices. To '\n",
      "  'accelerate our response to price-gouging incidents, we created a special '\n",
      "  'communication channel for state attorneys general to quickly and easily '\n",
      "  'escalate consumer complaints to us.     Amazon Web Services is also playing '\n",
      "  'an important role in this crisis. The ability for organizations to access '\n",
      "  'scalable, dependable, and highly secure computing power—whether for vital '\n",
      "  'healthcare work, to help students continue learning, or to keep '\n",
      "  'unprecedented numbers of employees online and productive from home—is '\n",
      "  'critical in this situation. Hospital networks, pharmaceutical companies, '\n",
      "  'and research labs are using AWS to care for patients, explore treatments, '\n",
      "  'and mitigate the impacts of COVID-19 in many other ways. Academic '\n",
      "  'institutions around the world are transitioning from in-person to virtual '\n",
      "  'classrooms and are running on AWS to help ensure continuity of learning. '\n",
      "  'And governments are leveraging AWS as a secure platform to build out new '\n",
      "  'capabilities in their efforts to end this pandemic.     We are '\n",
      "  'collaborating with the World Health Organization, supplying advanced cloud '\n",
      "  'technologies and technical expertise to track the virus, understand the '\n",
      "  'outbreak, and better contain its spread. WHO is leveraging our cloud to '\n",
      "  'build large-scale data lakes, aggregate epidemiological country data, '\n",
      "  'rapidly translate medical training videos into different languages, and '\n",
      "  'help global healthcare workers better treat patients.']\n",
      "\n",
      "---------- Generated using Claude 3.5 Haiku:\n",
      "('During the COVID-19 pandemic, Amazon faced several significant challenges. '\n",
      " 'The company experienced an extraordinary surge in consumer demand, growing '\n",
      " 'dramatically in both North America and International markets. This sudden '\n",
      " 'spike in orders meant Amazon had to rapidly scale up its logistics and '\n",
      " 'fulfillment network, essentially doubling its infrastructure in just 24 '\n",
      " 'months to meet customer needs. The pandemic created complex supply chain '\n",
      " 'disruptions, with ocean, air, and trucking capacities becoming scarcer and '\n",
      " 'more expensive. The tight labor market made it challenging for Amazon to '\n",
      " 'receive inventory from vendors and place products close to customers. '\n",
      " 'Additionally, the emergence of the Omicron variant in December and the '\n",
      " 'Russia-Ukraine conflict in late February further complicated their '\n",
      " 'operational landscape. Amazon also had to prioritize employee safety, '\n",
      " 'implementing over 150 significant process changes in their operations '\n",
      " 'network. This included distributing face masks, conducting temperature '\n",
      " 'checks, regularly sanitizing facilities, implementing social distancing '\n",
      " 'measures, and adjusting training and hiring protocols to protect workers '\n",
      " 'during the pandemic. To combat potential exploitation, Amazon also took '\n",
      " 'aggressive action against price gouging, removing over half a million offers '\n",
      " 'from their stores and suspending more than 6,000 selling accounts globally. '\n",
      " 'They even collaborated with 42 state attorneys general offices to address '\n",
      " 'COVID-related pricing violations.')\n",
      "---------- The citations for the response generated by Claude 3.5 Haiku:\n",
      "[ 'Many concluded that they didn’t want to continue managing their technology '\n",
      "  'infrastructure themselves, and made the decision to accelerate their move '\n",
      "  'to the cloud. This shift by so many companies (along with the economy '\n",
      "  'recovering) helped re-accelerate AWS’s revenue growth to 37% YoY in '\n",
      "  '2021.     Conversely, our Consumer revenue grew dramatically in 2020. In '\n",
      "  '2020, Amazon’s North America and International Consumer revenue grew 39% '\n",
      "  'YoY on the very large 2019 revenue base of $245 billion; and, this '\n",
      "  'extraordinary growth extended into 2021 with revenue increasing 43% YoY in '\n",
      "  'Q1 2021. These are astounding numbers. We realized the equivalent of three '\n",
      "  'years’ forecasted growth in about 15 months.     As the world opened up '\n",
      "  'again starting in late Q2 2021, and more people ventured out to eat, shop, '\n",
      "  'and travel, consumer spending returned to being spread over many more '\n",
      "  'entities. We weren’t sure what to expect in 2021, but the fact that we '\n",
      "  'continued to grow at double digit rates (with a two-year Consumer '\n",
      "  'compounded annual growth rate of 29%) was encouraging as customers '\n",
      "  'appreciated the role Amazon played for them during the pandemic, and '\n",
      "  'started using Amazon for a larger amount of their household purchases.     '\n",
      "  'This growth also created short-term logistics and cost challenges. We spent '\n",
      "  'Amazon’s first 25 years building a very large fulfillment network, and then '\n",
      "  'had to double it in the last 24 months to meet customer demand. As we were '\n",
      "  'bringing this new capacity online, the labor market tightened considerably, '\n",
      "  'making it challenging both to receive all of the inventory our vendors and '\n",
      "  'sellers wanted to send us and to place that inventory as close to customers '\n",
      "  'as we typically do. Combined with ocean, air, and trucking capacity '\n",
      "  'becoming scarcer and more expensive, this created extra transportation and '\n",
      "  'productivity costs. Supply chains were disrupted in ways none of us had '\n",
      "  'seen previously. We hoped that the major impact from COVID-19 would recede '\n",
      "  'as 2021 drew to a close, but then omicron reared its head in December, '\n",
      "  'which had worldwide ramifications, including impacting people’s ability to '\n",
      "  'work. And then in late February, with Russia’s invasion of Ukraine, fuel '\n",
      "  'costs and inflation became bigger issues with which to contend.     So, '\n",
      "  '2021 was a crazy and unpredictable year, continuing a trend from 2020. But, '\n",
      "  'I’m proud of the incredible commitment and effort from our employees all '\n",
      "  'over the world.',\n",
      "  'Many concluded that they didn’t want to continue managing their technology '\n",
      "  'infrastructure themselves, and made the decision to accelerate their move '\n",
      "  'to the cloud. This shift by so many companies (along with the economy '\n",
      "  'recovering) helped re-accelerate AWS’s revenue growth to 37% YoY in '\n",
      "  '2021.     Conversely, our Consumer revenue grew dramatically in 2020. In '\n",
      "  '2020, Amazon’s North America and International Consumer revenue grew 39% '\n",
      "  'YoY on the very large 2019 revenue base of $245 billion; and, this '\n",
      "  'extraordinary growth extended into 2021 with revenue increasing 43% YoY in '\n",
      "  'Q1 2021. These are astounding numbers. We realized the equivalent of three '\n",
      "  'years’ forecasted growth in about 15 months.     As the world opened up '\n",
      "  'again starting in late Q2 2021, and more people ventured out to eat, shop, '\n",
      "  'and travel, consumer spending returned to being spread over many more '\n",
      "  'entities. We weren’t sure what to expect in 2021, but the fact that we '\n",
      "  'continued to grow at double digit rates (with a two-year Consumer '\n",
      "  'compounded annual growth rate of 29%) was encouraging as customers '\n",
      "  'appreciated the role Amazon played for them during the pandemic, and '\n",
      "  'started using Amazon for a larger amount of their household purchases.     '\n",
      "  'This growth also created short-term logistics and cost challenges. We spent '\n",
      "  'Amazon’s first 25 years building a very large fulfillment network, and then '\n",
      "  'had to double it in the last 24 months to meet customer demand. As we were '\n",
      "  'bringing this new capacity online, the labor market tightened considerably, '\n",
      "  'making it challenging both to receive all of the inventory our vendors and '\n",
      "  'sellers wanted to send us and to place that inventory as close to customers '\n",
      "  'as we typically do. Combined with ocean, air, and trucking capacity '\n",
      "  'becoming scarcer and more expensive, this created extra transportation and '\n",
      "  'productivity costs. Supply chains were disrupted in ways none of us had '\n",
      "  'seen previously. We hoped that the major impact from COVID-19 would recede '\n",
      "  'as 2021 drew to a close, but then omicron reared its head in December, '\n",
      "  'which had worldwide ramifications, including impacting people’s ability to '\n",
      "  'work. And then in late February, with Russia’s invasion of Ukraine, fuel '\n",
      "  'costs and inflation became bigger issues with which to contend.     So, '\n",
      "  '2021 was a crazy and unpredictable year, continuing a trend from 2020. But, '\n",
      "  'I’m proud of the incredible commitment and effort from our employees all '\n",
      "  'over the world.',\n",
      "  'To our shareowners:     One thing we’ve learned from the COVID-19 crisis is '\n",
      "  'how important Amazon has become to our customers. We want you to know we '\n",
      "  'take this responsibility seriously, and we’re proud of the work our teams '\n",
      "  'are doing to help customers through this difficult time.     Amazonians are '\n",
      "  'working around the clock to get necessary supplies delivered directly to '\n",
      "  'the doorsteps of people who need them. The demand we are seeing for '\n",
      "  'essential products has been and remains high. But unlike a predictable '\n",
      "  'holiday surge, this spike occurred with little warning, creating major '\n",
      "  'challenges for our suppliers and delivery network. We quickly prioritized '\n",
      "  'the stocking and delivery of essential household staples, medical supplies, '\n",
      "  'and other critical products.     Our Whole Foods Market stores have '\n",
      "  'remained open, providing fresh food and other vital goods for customers. We '\n",
      "  'are taking steps to help those most vulnerable to the virus, setting aside '\n",
      "  'the first hour of shopping at Whole Foods each day for seniors. We have '\n",
      "  'temporarily closed Amazon Books, Amazon 4-star, and Amazon Pop Up stores '\n",
      "  'because they don’t sell essential products, and we offered associates from '\n",
      "  'those closed stores the opportunity to continue working in other parts of '\n",
      "  'Amazon.     Crucially, while providing these essential services, we are '\n",
      "  'focused on the safety of our employees and contractors around the world—we '\n",
      "  'are deeply grateful for their heroic work and are committed to their health '\n",
      "  'and well-being. Consulting closely with medical experts and health '\n",
      "  'authorities, we’ve made over 150 significant process changes in our '\n",
      "  'operations network and Whole Foods Market stores to help teams stay '\n",
      "  'healthy, and we conduct daily audits of the measures we’ve put into place. '\n",
      "  'We’ve distributed face masks and implemented temperature checks at sites '\n",
      "  'around the world to help protect employees and support staff. We regularly '\n",
      "  'sanitize door handles, stairway handrails, lockers, elevator buttons, and '\n",
      "  'touch screens, and disinfectant wipes and hand sanitizer are standard '\n",
      "  'across our network.     We’ve also introduced extensive social distancing '\n",
      "  'measures to help protect our associates. We have eliminated stand-up '\n",
      "  'meetings during shifts, moved information sharing to bulletin boards, '\n",
      "  'staggered break times, and spread out chairs in breakrooms. While training '\n",
      "  'new hires is challenging with new distancing requirements, we continue to '\n",
      "  'ensure that every new employee gets six hours of safety training. We’ve '\n",
      "  'shifted training protocols so we don’t have employees gathering in one '\n",
      "  'spot, and we’ve adjusted our hiring processes to allow for social '\n",
      "  'distancing.     A next step in protecting our employees might be regular '\n",
      "  'testing of all Amazonians, including those showing no symptoms.',\n",
      "  'In March, we opened 100,000 new positions across our fulfillment and '\n",
      "  'delivery network. Earlier this week, after successfully filling those '\n",
      "  'roles, we announced we were creating another 75,000 jobs to respond to '\n",
      "  'customer demand. These new hires are helping customers who depend on us to '\n",
      "  'meet their critical needs. We know that many people around the world have '\n",
      "  'suffered financially as jobs are lost or furloughed. We are happy to have '\n",
      "  'them on our teams until things return to normal and either their former '\n",
      "  'employer can bring them back or new jobs become available. We’ve welcomed '\n",
      "  'Joe Duffy, who joined after losing his job as a mechanic at Newark airport '\n",
      "  'and learned about an opening from a friend who is an Amazon operations '\n",
      "  'analyst. Dallas preschool teacher Darby Griffin joined after her school '\n",
      "  'closed on March 9th and now helps manage new inventory. We’re happy to have '\n",
      "  'Darby with us until she can return to the classroom.     Amazon is acting '\n",
      "  'aggressively to protect our customers from bad actors looking to exploit '\n",
      "  'the crisis. We’ve removed over half a million offers from our stores due to '\n",
      "  'COVID-based price gouging, and we’ve suspended more than 6,000 selling '\n",
      "  'accounts globally for violating our fair-pricing policies. Amazon turned '\n",
      "  'over information about sellers we suspect engaged in price gouging of '\n",
      "  'products related to COVID-19 to 42 state attorneys general offices. To '\n",
      "  'accelerate our response to price-gouging incidents, we created a special '\n",
      "  'communication channel for state attorneys general to quickly and easily '\n",
      "  'escalate consumer complaints to us.     Amazon Web Services is also playing '\n",
      "  'an important role in this crisis. The ability for organizations to access '\n",
      "  'scalable, dependable, and highly secure computing power—whether for vital '\n",
      "  'healthcare work, to help students continue learning, or to keep '\n",
      "  'unprecedented numbers of employees online and productive from home—is '\n",
      "  'critical in this situation. Hospital networks, pharmaceutical companies, '\n",
      "  'and research labs are using AWS to care for patients, explore treatments, '\n",
      "  'and mitigate the impacts of COVID-19 in many other ways. Academic '\n",
      "  'institutions around the world are transitioning from in-person to virtual '\n",
      "  'classrooms and are running on AWS to help ensure continuity of learning. '\n",
      "  'And governments are leveraging AWS as a secure platform to build out new '\n",
      "  'capabilities in their efforts to end this pandemic.     We are '\n",
      "  'collaborating with the World Health Organization, supplying advanced cloud '\n",
      "  'technologies and technical expertise to track the virus, understand the '\n",
      "  'outbreak, and better contain its spread. WHO is leveraging our cloud to '\n",
      "  'build large-scale data lakes, aggregate epidemiological country data, '\n",
      "  'rapidly translate medical training videos into different languages, and '\n",
      "  'help global healthcare workers better treat patients.']\n",
      "\n"
     ]
    }
   ],
   "source": [
    "query = \"What was Amazon chalellenging in the time of Covid-19 pandemic?\"\n",
    "\n",
    "for model_id in claude_model_ids:\n",
    "    # if model id starts with \"arn\", it is a model ARN, else it is a model name\n",
    "    if model_id[1].startswith(\"arn:\"):\n",
    "        model_arn = model_id[1]\n",
    "    else:\n",
    "        model_arn = f'arn:aws:bedrock:{region_name}::foundation-model/{model_id[1]}'\n",
    "    response = ask_bedrock_llm_with_knowledge_base(query, model_arn, kb_id)\n",
    "    generated_text = response['output']['text']\n",
    "    citations = response[\"citations\"]\n",
    "    contexts = []\n",
    "    for citation in citations:\n",
    "        retrievedReferences = citation[\"retrievedReferences\"]\n",
    "        for reference in retrievedReferences:\n",
    "            contexts.append(reference[\"content\"][\"text\"])\n",
    "    print(f\"---------- Generated using {model_id[0]}:\")\n",
    "    pp.pprint(generated_text )\n",
    "    print(f'---------- The citations for the response generated by {model_id[0]}:')\n",
    "    pp.pprint(contexts)\n",
    "    print()"
   ]
  },
  {
   "cell_type": "markdown",
   "metadata": {},
   "source": [
    "### Retrieve API\n",
    "Retrieve API converts user queries into embeddings, searches the knowledge base, and returns the relevant results, giving you more control to build custom workﬂows on top of the semantic search results. The output of the Retrieve API includes the the retrieved text chunks, the location type and URI of the source data, as well as the relevance scores of the retrievals."
   ]
  },
  {
   "cell_type": "code",
   "execution_count": 45,
   "metadata": {
    "collapsed": false,
    "jupyter": {
     "outputs_hidden": false
    },
    "tags": []
   },
   "outputs": [],
   "source": [
    "# retrieve api for fetching only the relevant context.\n",
    "relevant_documents = bedrock_agent_runtime_client.retrieve(\n",
    "    retrievalQuery= {\n",
    "        'text': query\n",
    "    },\n",
    "    knowledgeBaseId=kb_id,\n",
    "    retrievalConfiguration= {\n",
    "        'vectorSearchConfiguration': {\n",
    "            'numberOfResults': 3 # will fetch top 3 documents which matches closely with the query.\n",
    "        }\n",
    "    }\n",
    ")"
   ]
  },
  {
   "cell_type": "code",
   "execution_count": 46,
   "metadata": {
    "collapsed": false,
    "jupyter": {
     "outputs_hidden": false
    },
    "tags": []
   },
   "outputs": [
    {
     "name": "stdout",
     "output_type": "stream",
     "text": [
      "[ { 'content': { 'text': 'And governments are leveraging AWS as a secure '\n",
      "                         'platform to build out new capabilities in their '\n",
      "                         'efforts to end this pandemic.     We are '\n",
      "                         'collaborating with the World Health Organization, '\n",
      "                         'supplying advanced cloud technologies and technical '\n",
      "                         'expertise to track the virus, understand the '\n",
      "                         'outbreak, and better contain its spread. WHO is '\n",
      "                         'leveraging our cloud to build large-scale data '\n",
      "                         'lakes, aggregate epidemiological country data, '\n",
      "                         'rapidly translate medical training videos into '\n",
      "                         'different languages, and help global healthcare '\n",
      "                         'workers better treat patients. We are separately '\n",
      "                         'making a public AWS COVID-19 data lake available as '\n",
      "                         'a centralized repository for up-to-date and curated '\n",
      "                         'information related to the spread and '\n",
      "                         'characteristics of the virus and its associated '\n",
      "                         'illness so experts can access and analyze the latest '\n",
      "                         'data in their battle against the disease.     We '\n",
      "                         'also launched the AWS Diagnostic Development '\n",
      "                         'Initiative, a program to support customers working '\n",
      "                         'to bring more accurate diagnostic solutions to '\n",
      "                         'market for COVID-19. Better diagnostics help '\n",
      "                         'accelerate treatment and containment of this '\n",
      "                         'pandemic. We committed $20 million to accelerate '\n",
      "                         'this work and help our customers harness the cloud '\n",
      "                         'to tackle this challenge. While the program was '\n",
      "                         'established in response to COVID-19, we also are '\n",
      "                         'looking toward the future, and we will fund '\n",
      "                         'diagnostic research projects that have the potential '\n",
      "                         'to blunt future infectious disease '\n",
      "                         'outbreaks.Customers around the world have leveraged '\n",
      "                         'the cloud to scale up services and stand up '\n",
      "                         'responses to COVID-19. We joined the New York City '\n",
      "                         'COVID-19 Rapid Response Coalition to develop a '\n",
      "                         'conversational agent to enable at-risk and elderly '\n",
      "                         'New Yorkers to receive accurate, timely information '\n",
      "                         'about medical and other important needs. In response '\n",
      "                         'to a request from the Los Angeles Unified School '\n",
      "                         'District to transition 700,000 students to remote '\n",
      "                         'learning, AWS helped establish a call center to '\n",
      "                         'field IT questions, provide remote support, and '\n",
      "                         'enable staff to answer calls. We are providing cloud '\n",
      "                         'services to the CDC to help thousands of public '\n",
      "                         'health practitioners and clinicians gather data '\n",
      "                         'related to COVID-19 and inform response efforts. In '\n",
      "                         'the UK, AWS provides the cloud computing '\n",
      "                         'infrastructure for a project that analyzes hospital '\n",
      "                         'occupancy levels, emergency room capacity, and '\n",
      "                         'patient wait times to help the country’s National '\n",
      "                         'Health Service decide where best to allocate '\n",
      "                         'resources. In Canada, OTN—one of the world’s largest '\n",
      "                         'virtual care networks—is scaling its AWS-powered '\n",
      "                         'video service to accommodate a 4,000% spike in '\n",
      "                         'demand to support citizens as the pandemic '\n",
      "                         'continues. In Brazil, AWS will provide the São Paulo '\n",
      "                         'State Government with cloud computing infrastructure '\n",
      "                         'to guarantee online classes to 1 million students in '\n",
      "                         'public schools across the state.',\n",
      "                 'type': 'TEXT'},\n",
      "    'location': { 's3Location': { 'uri': 's3://bedrock-kb-us-east-1-183295442349/AMZN-2019-Shareholder-Letter.pdf'},\n",
      "                  'type': 'S3'},\n",
      "    'metadata': { 'x-amz-bedrock-kb-chunk-id': '1%3A0%3Aqy96WZYBa8XCZi9GHoJQ',\n",
      "                  'x-amz-bedrock-kb-data-source-id': 'J8HQRUMBAE',\n",
      "                  'x-amz-bedrock-kb-document-page-number': 2.0,\n",
      "                  'x-amz-bedrock-kb-source-uri': 's3://bedrock-kb-us-east-1-183295442349/AMZN-2019-Shareholder-Letter.pdf'},\n",
      "    'score': 0.37881896},\n",
      "  { 'content': { 'text': 'Launched in 2020, Amazon Pharmacy is a full-service, '\n",
      "                         'online pharmacy that offers transparent pricing, '\n",
      "                         'easy refills, and savings for Prime members. The '\n",
      "                         'business is growing quickly, and continues to '\n",
      "                         'innovate. An example is Amazon Pharmacy’s recent '\n",
      "                         'launch of RxPass, which for a $5 permonth flat fee, '\n",
      "                         'enables Prime members to get as many of the eligible '\n",
      "                         'prescription medications as they need for dozens of '\n",
      "                         'common conditions, like high blood pressure, acid '\n",
      "                         'reflux, and anxiety. However, our customers have '\n",
      "                         'continued to express a strong desire for Amazon to '\n",
      "                         'provide a better alternative to the inefficient and '\n",
      "                         'unsatisfying broader healthcare experience. We '\n",
      "                         'decided to start with primary care as it’s a '\n",
      "                         'prevalent first stop in the patient journey. We '\n",
      "                         'evaluated and studied the existing landscape '\n",
      "                         'extensively, including some early Amazon experiments '\n",
      "                         'like Amazon Care. During this process, we identified '\n",
      "                         'One Medical’s patient-focused experience as an '\n",
      "                         'excellent foundation upon which to build our future '\n",
      "                         'business; and in July 2022, we announced our '\n",
      "                         'acquisition of One Medical. There are several '\n",
      "                         'elements that customers love about One Medical. It '\n",
      "                         'has a fantastic digital app that makes it easy for '\n",
      "                         'patients to discuss issues with a medical '\n",
      "                         'practitioner via chat or video conference. If a '\n",
      "                         'physical visit is required, One Medical has offices '\n",
      "                         'in cities across the US where patients can book same '\n",
      "                         'or next day appointments. One Medical has '\n",
      "                         'relationships with specialty physicians in each of '\n",
      "                         'its cities and works closely with local hospital '\n",
      "                         'systems to make seeing specialists easy, so One '\n",
      "                         'Medical members can quickly access these resources '\n",
      "                         'when needed. Going forward, we strongly believe that '\n",
      "                         'One Medical and Amazon will continue to innovate '\n",
      "                         'together to change what primary care will look like '\n",
      "                         'for customers.     Kuiper is another example of '\n",
      "                         'Amazon innovating for customers over the long term '\n",
      "                         'in an area where there’s high customer need. Our '\n",
      "                         'vision for Kuiper is to create a low-Earth orbit '\n",
      "                         'satellite system to deliver high-quality broadband '\n",
      "                         'internet service to places around the world that '\n",
      "                         'don’t currently have it. There are hundreds of '\n",
      "                         'millions of households and businesses who don’t have '\n",
      "                         'reliable access to the internet. Imagine what '\n",
      "                         'they’ll be able to do with reliable connectivity, '\n",
      "                         'from people taking online education courses, using '\n",
      "                         'financial services, starting their own businesses, '\n",
      "                         'doing their shopping, enjoying entertainment, to '\n",
      "                         'businesses and governments improving their coverage, '\n",
      "                         'efficiency, and operations. Kuiper will deliver not '\n",
      "                         'only accessibility, but affordability. Our teams '\n",
      "                         'have developed low-cost antennas (i.e. customer '\n",
      "                         'terminals) that will lower the barriers to access.',\n",
      "                 'type': 'TEXT'},\n",
      "    'location': { 's3Location': { 'uri': 's3://bedrock-kb-us-east-1-183295442349/AMZN-2022-Shareholder-Letter.pdf'},\n",
      "                  'type': 'S3'},\n",
      "    'metadata': { 'x-amz-bedrock-kb-chunk-id': '1%3A0%3AMql6WZYBLzdZ2HszGlro',\n",
      "                  'x-amz-bedrock-kb-data-source-id': 'J8HQRUMBAE',\n",
      "                  'x-amz-bedrock-kb-document-page-number': 5.0,\n",
      "                  'x-amz-bedrock-kb-source-uri': 's3://bedrock-kb-us-east-1-183295442349/AMZN-2022-Shareholder-Letter.pdf'},\n",
      "    'score': 0.37876278},\n",
      "  { 'content': { 'text': 'The competitive landscape has continued to evolve at '\n",
      "                         'a fast pace. Many large players have moved online '\n",
      "                         'with credible offerings and have devoted substantial '\n",
      "                         'energy and resources to building awareness, traffic, '\n",
      "                         'and sales. Our goal is to move quickly to solidify '\n",
      "                         'and extend our current position while we begin to '\n",
      "                         'pursue the online commerce opportunities in other '\n",
      "                         'areas. We see substantial opportunity in the large '\n",
      "                         'markets we are targeting. This strategy is not '\n",
      "                         'without risk: it requires serious investment and '\n",
      "                         'crisp execution against established franchise '\n",
      "                         'leaders.     It’s All About the Long Term     We '\n",
      "                         'believe that a fundamental measure of our success '\n",
      "                         'will be the shareholder value we create over the '\n",
      "                         'long term. This value will be a direct result of our '\n",
      "                         'ability to extend and solidify our current market '\n",
      "                         'leadership position. The stronger our market '\n",
      "                         'leadership, the more powerful our economic model. '\n",
      "                         'Market leadership can translate directly to higher '\n",
      "                         'revenue, higher profitability, greater capital '\n",
      "                         'velocity, and correspondingly stronger returns on '\n",
      "                         'invested capital.     Our decisions have '\n",
      "                         'consistently reflected this focus. We first measure '\n",
      "                         'ourselves in terms of the metrics most indicative of '\n",
      "                         'our market leadership: customer and revenue growth, '\n",
      "                         'the degree to which our customers continue to '\n",
      "                         'purchase from us on a repeat basis, and the strength '\n",
      "                         'of our brand. We have invested and will continue to '\n",
      "                         'invest aggressively to expand and leverage our '\n",
      "                         'customer base, brand, and infrastructure as we move '\n",
      "                         'to establish an enduring franchise.     Because of '\n",
      "                         'our emphasis on the long term, we may make decisions '\n",
      "                         'and weigh tradeoffs differently than some companies. '\n",
      "                         'Accordingly, we want to share with you our '\n",
      "                         'fundamental management and decision-making approach '\n",
      "                         'so that you, our shareholders, may confirm that it '\n",
      "                         'is consistent with your investment philosophy:     • '\n",
      "                         'We will continue to focus relentlessly on our '\n",
      "                         'customers.     • We will continue to make investment '\n",
      "                         'decisions in light of long-term market leadership '\n",
      "                         'considerations rather than short-term profitability '\n",
      "                         'considerations or short-term Wall Street '\n",
      "                         'reactions.     • We will continue to measure our '\n",
      "                         'programs and the effectiveness of our investments '\n",
      "                         'analytically, to jettison those that do not provide '\n",
      "                         'acceptable returns, and to step up our investment in '\n",
      "                         'those that work best. We will continue to learn from '\n",
      "                         'both our successes and our failures.• We will make '\n",
      "                         'bold rather than timid investment decisions where we '\n",
      "                         'see a sufficient probability of gaining market '\n",
      "                         'leadership advantages. Some of these investments '\n",
      "                         'will pay off, others will not, and we will have '\n",
      "                         'learned another valuable lesson in either case.     '\n",
      "                         '• When forced to choose between optimizing the '\n",
      "                         'appearance of our GAAP accounting and maximizing the '\n",
      "                         'present value of future cash flows, we’ll take the '\n",
      "                         'cash flows.',\n",
      "                 'type': 'TEXT'},\n",
      "    'location': { 's3Location': { 'uri': 's3://bedrock-kb-us-east-1-183295442349/AMZN-2022-Shareholder-Letter.pdf'},\n",
      "                  'type': 'S3'},\n",
      "    'metadata': { 'x-amz-bedrock-kb-chunk-id': '1%3A0%3ANql6WZYBLzdZ2HszGlrp',\n",
      "                  'x-amz-bedrock-kb-data-source-id': 'J8HQRUMBAE',\n",
      "                  'x-amz-bedrock-kb-document-page-number': 8.0,\n",
      "                  'x-amz-bedrock-kb-source-uri': 's3://bedrock-kb-us-east-1-183295442349/AMZN-2022-Shareholder-Letter.pdf'},\n",
      "    'score': 0.37805304}]\n"
     ]
    }
   ],
   "source": [
    "pp.pprint(relevant_documents[\"retrievalResults\"])"
   ]
  },
  {
   "cell_type": "markdown",
   "metadata": {},
   "source": [
    "<div class=\"alert alert-block alert-warning\">\n",
    "<b>Next steps:</b> Proceed to the next labs to learn how to use Bedrock Knowledge bases. Remember to CLEAN_UP at the end of your session.\n",
    "</div>"
   ]
  }
 ],
 "metadata": {
  "availableInstances": [
   {
    "_defaultOrder": 0,
    "_isFastLaunch": true,
    "category": "General purpose",
    "gpuNum": 0,
    "hideHardwareSpecs": false,
    "memoryGiB": 4,
    "name": "ml.t3.medium",
    "vcpuNum": 2
   },
   {
    "_defaultOrder": 1,
    "_isFastLaunch": false,
    "category": "General purpose",
    "gpuNum": 0,
    "hideHardwareSpecs": false,
    "memoryGiB": 8,
    "name": "ml.t3.large",
    "vcpuNum": 2
   },
   {
    "_defaultOrder": 2,
    "_isFastLaunch": false,
    "category": "General purpose",
    "gpuNum": 0,
    "hideHardwareSpecs": false,
    "memoryGiB": 16,
    "name": "ml.t3.xlarge",
    "vcpuNum": 4
   },
   {
    "_defaultOrder": 3,
    "_isFastLaunch": false,
    "category": "General purpose",
    "gpuNum": 0,
    "hideHardwareSpecs": false,
    "memoryGiB": 32,
    "name": "ml.t3.2xlarge",
    "vcpuNum": 8
   },
   {
    "_defaultOrder": 4,
    "_isFastLaunch": true,
    "category": "General purpose",
    "gpuNum": 0,
    "hideHardwareSpecs": false,
    "memoryGiB": 8,
    "name": "ml.m5.large",
    "vcpuNum": 2
   },
   {
    "_defaultOrder": 5,
    "_isFastLaunch": false,
    "category": "General purpose",
    "gpuNum": 0,
    "hideHardwareSpecs": false,
    "memoryGiB": 16,
    "name": "ml.m5.xlarge",
    "vcpuNum": 4
   },
   {
    "_defaultOrder": 6,
    "_isFastLaunch": false,
    "category": "General purpose",
    "gpuNum": 0,
    "hideHardwareSpecs": false,
    "memoryGiB": 32,
    "name": "ml.m5.2xlarge",
    "vcpuNum": 8
   },
   {
    "_defaultOrder": 7,
    "_isFastLaunch": false,
    "category": "General purpose",
    "gpuNum": 0,
    "hideHardwareSpecs": false,
    "memoryGiB": 64,
    "name": "ml.m5.4xlarge",
    "vcpuNum": 16
   },
   {
    "_defaultOrder": 8,
    "_isFastLaunch": false,
    "category": "General purpose",
    "gpuNum": 0,
    "hideHardwareSpecs": false,
    "memoryGiB": 128,
    "name": "ml.m5.8xlarge",
    "vcpuNum": 32
   },
   {
    "_defaultOrder": 9,
    "_isFastLaunch": false,
    "category": "General purpose",
    "gpuNum": 0,
    "hideHardwareSpecs": false,
    "memoryGiB": 192,
    "name": "ml.m5.12xlarge",
    "vcpuNum": 48
   },
   {
    "_defaultOrder": 10,
    "_isFastLaunch": false,
    "category": "General purpose",
    "gpuNum": 0,
    "hideHardwareSpecs": false,
    "memoryGiB": 256,
    "name": "ml.m5.16xlarge",
    "vcpuNum": 64
   },
   {
    "_defaultOrder": 11,
    "_isFastLaunch": false,
    "category": "General purpose",
    "gpuNum": 0,
    "hideHardwareSpecs": false,
    "memoryGiB": 384,
    "name": "ml.m5.24xlarge",
    "vcpuNum": 96
   },
   {
    "_defaultOrder": 12,
    "_isFastLaunch": false,
    "category": "General purpose",
    "gpuNum": 0,
    "hideHardwareSpecs": false,
    "memoryGiB": 8,
    "name": "ml.m5d.large",
    "vcpuNum": 2
   },
   {
    "_defaultOrder": 13,
    "_isFastLaunch": false,
    "category": "General purpose",
    "gpuNum": 0,
    "hideHardwareSpecs": false,
    "memoryGiB": 16,
    "name": "ml.m5d.xlarge",
    "vcpuNum": 4
   },
   {
    "_defaultOrder": 14,
    "_isFastLaunch": false,
    "category": "General purpose",
    "gpuNum": 0,
    "hideHardwareSpecs": false,
    "memoryGiB": 32,
    "name": "ml.m5d.2xlarge",
    "vcpuNum": 8
   },
   {
    "_defaultOrder": 15,
    "_isFastLaunch": false,
    "category": "General purpose",
    "gpuNum": 0,
    "hideHardwareSpecs": false,
    "memoryGiB": 64,
    "name": "ml.m5d.4xlarge",
    "vcpuNum": 16
   },
   {
    "_defaultOrder": 16,
    "_isFastLaunch": false,
    "category": "General purpose",
    "gpuNum": 0,
    "hideHardwareSpecs": false,
    "memoryGiB": 128,
    "name": "ml.m5d.8xlarge",
    "vcpuNum": 32
   },
   {
    "_defaultOrder": 17,
    "_isFastLaunch": false,
    "category": "General purpose",
    "gpuNum": 0,
    "hideHardwareSpecs": false,
    "memoryGiB": 192,
    "name": "ml.m5d.12xlarge",
    "vcpuNum": 48
   },
   {
    "_defaultOrder": 18,
    "_isFastLaunch": false,
    "category": "General purpose",
    "gpuNum": 0,
    "hideHardwareSpecs": false,
    "memoryGiB": 256,
    "name": "ml.m5d.16xlarge",
    "vcpuNum": 64
   },
   {
    "_defaultOrder": 19,
    "_isFastLaunch": false,
    "category": "General purpose",
    "gpuNum": 0,
    "hideHardwareSpecs": false,
    "memoryGiB": 384,
    "name": "ml.m5d.24xlarge",
    "vcpuNum": 96
   },
   {
    "_defaultOrder": 20,
    "_isFastLaunch": false,
    "category": "General purpose",
    "gpuNum": 0,
    "hideHardwareSpecs": true,
    "memoryGiB": 0,
    "name": "ml.geospatial.interactive",
    "supportedImageNames": [
     "sagemaker-geospatial-v1-0"
    ],
    "vcpuNum": 0
   },
   {
    "_defaultOrder": 21,
    "_isFastLaunch": true,
    "category": "Compute optimized",
    "gpuNum": 0,
    "hideHardwareSpecs": false,
    "memoryGiB": 4,
    "name": "ml.c5.large",
    "vcpuNum": 2
   },
   {
    "_defaultOrder": 22,
    "_isFastLaunch": false,
    "category": "Compute optimized",
    "gpuNum": 0,
    "hideHardwareSpecs": false,
    "memoryGiB": 8,
    "name": "ml.c5.xlarge",
    "vcpuNum": 4
   },
   {
    "_defaultOrder": 23,
    "_isFastLaunch": false,
    "category": "Compute optimized",
    "gpuNum": 0,
    "hideHardwareSpecs": false,
    "memoryGiB": 16,
    "name": "ml.c5.2xlarge",
    "vcpuNum": 8
   },
   {
    "_defaultOrder": 24,
    "_isFastLaunch": false,
    "category": "Compute optimized",
    "gpuNum": 0,
    "hideHardwareSpecs": false,
    "memoryGiB": 32,
    "name": "ml.c5.4xlarge",
    "vcpuNum": 16
   },
   {
    "_defaultOrder": 25,
    "_isFastLaunch": false,
    "category": "Compute optimized",
    "gpuNum": 0,
    "hideHardwareSpecs": false,
    "memoryGiB": 72,
    "name": "ml.c5.9xlarge",
    "vcpuNum": 36
   },
   {
    "_defaultOrder": 26,
    "_isFastLaunch": false,
    "category": "Compute optimized",
    "gpuNum": 0,
    "hideHardwareSpecs": false,
    "memoryGiB": 96,
    "name": "ml.c5.12xlarge",
    "vcpuNum": 48
   },
   {
    "_defaultOrder": 27,
    "_isFastLaunch": false,
    "category": "Compute optimized",
    "gpuNum": 0,
    "hideHardwareSpecs": false,
    "memoryGiB": 144,
    "name": "ml.c5.18xlarge",
    "vcpuNum": 72
   },
   {
    "_defaultOrder": 28,
    "_isFastLaunch": false,
    "category": "Compute optimized",
    "gpuNum": 0,
    "hideHardwareSpecs": false,
    "memoryGiB": 192,
    "name": "ml.c5.24xlarge",
    "vcpuNum": 96
   },
   {
    "_defaultOrder": 29,
    "_isFastLaunch": true,
    "category": "Accelerated computing",
    "gpuNum": 1,
    "hideHardwareSpecs": false,
    "memoryGiB": 16,
    "name": "ml.g4dn.xlarge",
    "vcpuNum": 4
   },
   {
    "_defaultOrder": 30,
    "_isFastLaunch": false,
    "category": "Accelerated computing",
    "gpuNum": 1,
    "hideHardwareSpecs": false,
    "memoryGiB": 32,
    "name": "ml.g4dn.2xlarge",
    "vcpuNum": 8
   },
   {
    "_defaultOrder": 31,
    "_isFastLaunch": false,
    "category": "Accelerated computing",
    "gpuNum": 1,
    "hideHardwareSpecs": false,
    "memoryGiB": 64,
    "name": "ml.g4dn.4xlarge",
    "vcpuNum": 16
   },
   {
    "_defaultOrder": 32,
    "_isFastLaunch": false,
    "category": "Accelerated computing",
    "gpuNum": 1,
    "hideHardwareSpecs": false,
    "memoryGiB": 128,
    "name": "ml.g4dn.8xlarge",
    "vcpuNum": 32
   },
   {
    "_defaultOrder": 33,
    "_isFastLaunch": false,
    "category": "Accelerated computing",
    "gpuNum": 4,
    "hideHardwareSpecs": false,
    "memoryGiB": 192,
    "name": "ml.g4dn.12xlarge",
    "vcpuNum": 48
   },
   {
    "_defaultOrder": 34,
    "_isFastLaunch": false,
    "category": "Accelerated computing",
    "gpuNum": 1,
    "hideHardwareSpecs": false,
    "memoryGiB": 256,
    "name": "ml.g4dn.16xlarge",
    "vcpuNum": 64
   },
   {
    "_defaultOrder": 35,
    "_isFastLaunch": false,
    "category": "Accelerated computing",
    "gpuNum": 1,
    "hideHardwareSpecs": false,
    "memoryGiB": 61,
    "name": "ml.p3.2xlarge",
    "vcpuNum": 8
   },
   {
    "_defaultOrder": 36,
    "_isFastLaunch": false,
    "category": "Accelerated computing",
    "gpuNum": 4,
    "hideHardwareSpecs": false,
    "memoryGiB": 244,
    "name": "ml.p3.8xlarge",
    "vcpuNum": 32
   },
   {
    "_defaultOrder": 37,
    "_isFastLaunch": false,
    "category": "Accelerated computing",
    "gpuNum": 8,
    "hideHardwareSpecs": false,
    "memoryGiB": 488,
    "name": "ml.p3.16xlarge",
    "vcpuNum": 64
   },
   {
    "_defaultOrder": 38,
    "_isFastLaunch": false,
    "category": "Accelerated computing",
    "gpuNum": 8,
    "hideHardwareSpecs": false,
    "memoryGiB": 768,
    "name": "ml.p3dn.24xlarge",
    "vcpuNum": 96
   },
   {
    "_defaultOrder": 39,
    "_isFastLaunch": false,
    "category": "Memory Optimized",
    "gpuNum": 0,
    "hideHardwareSpecs": false,
    "memoryGiB": 16,
    "name": "ml.r5.large",
    "vcpuNum": 2
   },
   {
    "_defaultOrder": 40,
    "_isFastLaunch": false,
    "category": "Memory Optimized",
    "gpuNum": 0,
    "hideHardwareSpecs": false,
    "memoryGiB": 32,
    "name": "ml.r5.xlarge",
    "vcpuNum": 4
   },
   {
    "_defaultOrder": 41,
    "_isFastLaunch": false,
    "category": "Memory Optimized",
    "gpuNum": 0,
    "hideHardwareSpecs": false,
    "memoryGiB": 64,
    "name": "ml.r5.2xlarge",
    "vcpuNum": 8
   },
   {
    "_defaultOrder": 42,
    "_isFastLaunch": false,
    "category": "Memory Optimized",
    "gpuNum": 0,
    "hideHardwareSpecs": false,
    "memoryGiB": 128,
    "name": "ml.r5.4xlarge",
    "vcpuNum": 16
   },
   {
    "_defaultOrder": 43,
    "_isFastLaunch": false,
    "category": "Memory Optimized",
    "gpuNum": 0,
    "hideHardwareSpecs": false,
    "memoryGiB": 256,
    "name": "ml.r5.8xlarge",
    "vcpuNum": 32
   },
   {
    "_defaultOrder": 44,
    "_isFastLaunch": false,
    "category": "Memory Optimized",
    "gpuNum": 0,
    "hideHardwareSpecs": false,
    "memoryGiB": 384,
    "name": "ml.r5.12xlarge",
    "vcpuNum": 48
   },
   {
    "_defaultOrder": 45,
    "_isFastLaunch": false,
    "category": "Memory Optimized",
    "gpuNum": 0,
    "hideHardwareSpecs": false,
    "memoryGiB": 512,
    "name": "ml.r5.16xlarge",
    "vcpuNum": 64
   },
   {
    "_defaultOrder": 46,
    "_isFastLaunch": false,
    "category": "Memory Optimized",
    "gpuNum": 0,
    "hideHardwareSpecs": false,
    "memoryGiB": 768,
    "name": "ml.r5.24xlarge",
    "vcpuNum": 96
   },
   {
    "_defaultOrder": 47,
    "_isFastLaunch": false,
    "category": "Accelerated computing",
    "gpuNum": 1,
    "hideHardwareSpecs": false,
    "memoryGiB": 16,
    "name": "ml.g5.xlarge",
    "vcpuNum": 4
   },
   {
    "_defaultOrder": 48,
    "_isFastLaunch": false,
    "category": "Accelerated computing",
    "gpuNum": 1,
    "hideHardwareSpecs": false,
    "memoryGiB": 32,
    "name": "ml.g5.2xlarge",
    "vcpuNum": 8
   },
   {
    "_defaultOrder": 49,
    "_isFastLaunch": false,
    "category": "Accelerated computing",
    "gpuNum": 1,
    "hideHardwareSpecs": false,
    "memoryGiB": 64,
    "name": "ml.g5.4xlarge",
    "vcpuNum": 16
   },
   {
    "_defaultOrder": 50,
    "_isFastLaunch": false,
    "category": "Accelerated computing",
    "gpuNum": 1,
    "hideHardwareSpecs": false,
    "memoryGiB": 128,
    "name": "ml.g5.8xlarge",
    "vcpuNum": 32
   },
   {
    "_defaultOrder": 51,
    "_isFastLaunch": false,
    "category": "Accelerated computing",
    "gpuNum": 1,
    "hideHardwareSpecs": false,
    "memoryGiB": 256,
    "name": "ml.g5.16xlarge",
    "vcpuNum": 64
   },
   {
    "_defaultOrder": 52,
    "_isFastLaunch": false,
    "category": "Accelerated computing",
    "gpuNum": 4,
    "hideHardwareSpecs": false,
    "memoryGiB": 192,
    "name": "ml.g5.12xlarge",
    "vcpuNum": 48
   },
   {
    "_defaultOrder": 53,
    "_isFastLaunch": false,
    "category": "Accelerated computing",
    "gpuNum": 4,
    "hideHardwareSpecs": false,
    "memoryGiB": 384,
    "name": "ml.g5.24xlarge",
    "vcpuNum": 96
   },
   {
    "_defaultOrder": 54,
    "_isFastLaunch": false,
    "category": "Accelerated computing",
    "gpuNum": 8,
    "hideHardwareSpecs": false,
    "memoryGiB": 768,
    "name": "ml.g5.48xlarge",
    "vcpuNum": 192
   },
   {
    "_defaultOrder": 55,
    "_isFastLaunch": false,
    "category": "Accelerated computing",
    "gpuNum": 8,
    "hideHardwareSpecs": false,
    "memoryGiB": 1152,
    "name": "ml.p4d.24xlarge",
    "vcpuNum": 96
   },
   {
    "_defaultOrder": 56,
    "_isFastLaunch": false,
    "category": "Accelerated computing",
    "gpuNum": 8,
    "hideHardwareSpecs": false,
    "memoryGiB": 1152,
    "name": "ml.p4de.24xlarge",
    "vcpuNum": 96
   },
   {
    "_defaultOrder": 57,
    "_isFastLaunch": false,
    "category": "Accelerated computing",
    "gpuNum": 0,
    "hideHardwareSpecs": false,
    "memoryGiB": 32,
    "name": "ml.trn1.2xlarge",
    "vcpuNum": 8
   },
   {
    "_defaultOrder": 58,
    "_isFastLaunch": false,
    "category": "Accelerated computing",
    "gpuNum": 0,
    "hideHardwareSpecs": false,
    "memoryGiB": 512,
    "name": "ml.trn1.32xlarge",
    "vcpuNum": 128
   },
   {
    "_defaultOrder": 59,
    "_isFastLaunch": false,
    "category": "Accelerated computing",
    "gpuNum": 0,
    "hideHardwareSpecs": false,
    "memoryGiB": 512,
    "name": "ml.trn1n.32xlarge",
    "vcpuNum": 128
   }
  ],
  "instance_type": "ml.t3.medium",
  "kernelspec": {
   "display_name": "Python 3",
   "language": "python",
   "name": "python3"
  },
  "language_info": {
   "codemirror_mode": {
    "name": "ipython",
    "version": 3
   },
   "file_extension": ".py",
   "mimetype": "text/x-python",
   "name": "python",
   "nbconvert_exporter": "python",
   "pygments_lexer": "ipython3",
   "version": "3.12.1"
  }
 },
 "nbformat": 4,
 "nbformat_minor": 4
}
