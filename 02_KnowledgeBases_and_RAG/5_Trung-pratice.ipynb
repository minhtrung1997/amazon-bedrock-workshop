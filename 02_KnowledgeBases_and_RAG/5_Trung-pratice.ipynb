{
 "cells": [
  {
   "cell_type": "markdown",
   "id": "f8e7000a",
   "metadata": {},
   "source": [
    "# Trung notebook practice using Knowledge Base and RAG\n",
    "- I will customize the codes from previous provided notebooks to use my own knowledge base!!!"
   ]
  }
 ],
 "metadata": {
  "language_info": {
   "name": "python"
  }
 },
 "nbformat": 4,
 "nbformat_minor": 5
}
